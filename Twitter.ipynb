{
 "cells": [
  {
   "cell_type": "markdown",
   "source": [
    "Run the following command:\r\n",
    "\r\n",
    "pip install -r requirements.txt"
   ],
   "metadata": {}
  },
  {
   "cell_type": "code",
   "execution_count": 328,
   "source": [
    "import re\r\n",
    "import tweepy\r\n",
    "import pandas as pd\r\n",
    "import numpy as np\r\n",
    "import matplotlib.pyplot as plt\r\n",
    "from tensorflow import keras\r\n",
    "from tensorflow.keras import layers\r\n",
    "from tensorflow.keras.preprocessing.text import Tokenizer\r\n",
    "from keras.preprocessing.sequence import pad_sequences\r\n",
    "from tensorflow.keras.models import Sequential,load_model\r\n",
    "#from tensorflow.python.keras.utils import _____\r\n",
    "from keras.layers import Embedding,LSTM,Dense,Dropout\r\n",
    "from sklearn.model_selection import train_test_split\r\n",
    "\r\n",
    "## Importing all the relevant libraries"
   ],
   "outputs": [],
   "metadata": {}
  },
  {
   "cell_type": "code",
   "execution_count": 329,
   "source": [
    "from dotenv import load_dotenv, dotenv_values\r\n",
    "secrets = dotenv_values(\".env\")\r\n",
    "\r\n",
    "#Imports the credentials for Twitter\r\n",
    "\r\n",
    "consumerKey = secrets[\"consumerKey\"]\r\n",
    "consumerSecret = secrets[\"consumerSecret\"]\r\n",
    "accessToken = secrets[\"accessToken\"]\r\n",
    "accessSecret = secrets[\"accessSecret\"]"
   ],
   "outputs": [],
   "metadata": {}
  },
  {
   "cell_type": "code",
   "execution_count": 330,
   "source": [
    "authenticate = tweepy.OAuthHandler(consumerKey,consumerSecret)\r\n",
    "authenticate.set_access_token(accessToken,accessSecret)\r\n",
    "\r\n",
    "api = tweepy.API(authenticate,wait_on_rate_limit= True)"
   ],
   "outputs": [],
   "metadata": {}
  },
  {
   "cell_type": "code",
   "execution_count": 331,
   "source": [
    "mention = api.mentions_timeline()\r\n",
    "print(mention)\r\n",
    "\r\n",
    "for tweets in mention:\r\n",
    "  print(str(tweets.id)+'-'+tweets.text)"
   ],
   "outputs": [
    {
     "output_type": "stream",
     "name": "stdout",
     "text": [
      "[Status(_api=<tweepy.api.API object at 0x0000022032F14EE0>, _json={'created_at': 'Thu Aug 05 01:21:57 +0000 2021', 'id': 1423091876656259072, 'id_str': '1423091876656259072', 'text': '@wahwahbot', 'truncated': False, 'entities': {'hashtags': [], 'symbols': [], 'user_mentions': [{'screen_name': 'wahwahbot', 'name': 'wahwah', 'id': 1420860034884440064, 'id_str': '1420860034884440064', 'indices': [0, 10]}], 'urls': []}, 'source': '<a href=\"https://mobile.twitter.com\" rel=\"nofollow\">Twitter Web App</a>', 'in_reply_to_status_id': 1423091847640014850, 'in_reply_to_status_id_str': '1423091847640014850', 'in_reply_to_user_id': 1420860034884440064, 'in_reply_to_user_id_str': '1420860034884440064', 'in_reply_to_screen_name': 'wahwahbot', 'user': {'id': 1420860034884440064, 'id_str': '1420860034884440064', 'name': 'wahwah', 'screen_name': 'wahwahbot', 'location': '', 'description': \"Sorry not sorry, you deserved the feedback.\\n \\nHave complaints (prolly won't read 😜): https://t.co/wvKqMI8bsq\", 'url': None, 'entities': {'description': {'urls': [{'url': 'https://t.co/wvKqMI8bsq', 'expanded_url': 'https://github.com/hassanali1228/twitter-emotion-bot/issues', 'display_url': 'github.com/hassanali1228/…', 'indices': [85, 108]}]}}, 'protected': False, 'followers_count': 2, 'friends_count': 3, 'listed_count': 0, 'created_at': 'Thu Jul 29 21:34:05 +0000 2021', 'favourites_count': 0, 'utc_offset': None, 'time_zone': None, 'geo_enabled': False, 'verified': False, 'statuses_count': 7, 'lang': None, 'contributors_enabled': False, 'is_translator': False, 'is_translation_enabled': False, 'profile_background_color': 'F5F8FA', 'profile_background_image_url': None, 'profile_background_image_url_https': None, 'profile_background_tile': False, 'profile_image_url': 'http://pbs.twimg.com/profile_images/1420860447457173504/SqcFCSJp_normal.jpg', 'profile_image_url_https': 'https://pbs.twimg.com/profile_images/1420860447457173504/SqcFCSJp_normal.jpg', 'profile_link_color': '1DA1F2', 'profile_sidebar_border_color': 'C0DEED', 'profile_sidebar_fill_color': 'DDEEF6', 'profile_text_color': '333333', 'profile_use_background_image': True, 'has_extended_profile': True, 'default_profile': True, 'default_profile_image': False, 'following': False, 'follow_request_sent': False, 'notifications': False, 'translator_type': 'none', 'withheld_in_countries': []}, 'geo': None, 'coordinates': None, 'place': None, 'contributors': None, 'is_quote_status': False, 'retweet_count': 0, 'favorite_count': 0, 'favorited': False, 'retweeted': False, 'lang': 'und'}, created_at=datetime.datetime(2021, 8, 5, 1, 21, 57), id=1423091876656259072, id_str='1423091876656259072', text='@wahwahbot', truncated=False, entities={'hashtags': [], 'symbols': [], 'user_mentions': [{'screen_name': 'wahwahbot', 'name': 'wahwah', 'id': 1420860034884440064, 'id_str': '1420860034884440064', 'indices': [0, 10]}], 'urls': []}, source='Twitter Web App', source_url='https://mobile.twitter.com', in_reply_to_status_id=1423091847640014850, in_reply_to_status_id_str='1423091847640014850', in_reply_to_user_id=1420860034884440064, in_reply_to_user_id_str='1420860034884440064', in_reply_to_screen_name='wahwahbot', author=User(_api=<tweepy.api.API object at 0x0000022032F14EE0>, _json={'id': 1420860034884440064, 'id_str': '1420860034884440064', 'name': 'wahwah', 'screen_name': 'wahwahbot', 'location': '', 'description': \"Sorry not sorry, you deserved the feedback.\\n \\nHave complaints (prolly won't read 😜): https://t.co/wvKqMI8bsq\", 'url': None, 'entities': {'description': {'urls': [{'url': 'https://t.co/wvKqMI8bsq', 'expanded_url': 'https://github.com/hassanali1228/twitter-emotion-bot/issues', 'display_url': 'github.com/hassanali1228/…', 'indices': [85, 108]}]}}, 'protected': False, 'followers_count': 2, 'friends_count': 3, 'listed_count': 0, 'created_at': 'Thu Jul 29 21:34:05 +0000 2021', 'favourites_count': 0, 'utc_offset': None, 'time_zone': None, 'geo_enabled': False, 'verified': False, 'statuses_count': 7, 'lang': None, 'contributors_enabled': False, 'is_translator': False, 'is_translation_enabled': False, 'profile_background_color': 'F5F8FA', 'profile_background_image_url': None, 'profile_background_image_url_https': None, 'profile_background_tile': False, 'profile_image_url': 'http://pbs.twimg.com/profile_images/1420860447457173504/SqcFCSJp_normal.jpg', 'profile_image_url_https': 'https://pbs.twimg.com/profile_images/1420860447457173504/SqcFCSJp_normal.jpg', 'profile_link_color': '1DA1F2', 'profile_sidebar_border_color': 'C0DEED', 'profile_sidebar_fill_color': 'DDEEF6', 'profile_text_color': '333333', 'profile_use_background_image': True, 'has_extended_profile': True, 'default_profile': True, 'default_profile_image': False, 'following': False, 'follow_request_sent': False, 'notifications': False, 'translator_type': 'none', 'withheld_in_countries': []}, id=1420860034884440064, id_str='1420860034884440064', name='wahwah', screen_name='wahwahbot', location='', description=\"Sorry not sorry, you deserved the feedback.\\n \\nHave complaints (prolly won't read 😜): https://t.co/wvKqMI8bsq\", url=None, entities={'description': {'urls': [{'url': 'https://t.co/wvKqMI8bsq', 'expanded_url': 'https://github.com/hassanali1228/twitter-emotion-bot/issues', 'display_url': 'github.com/hassanali1228/…', 'indices': [85, 108]}]}}, protected=False, followers_count=2, friends_count=3, listed_count=0, created_at=datetime.datetime(2021, 7, 29, 21, 34, 5), favourites_count=0, utc_offset=None, time_zone=None, geo_enabled=False, verified=False, statuses_count=7, lang=None, contributors_enabled=False, is_translator=False, is_translation_enabled=False, profile_background_color='F5F8FA', profile_background_image_url=None, profile_background_image_url_https=None, profile_background_tile=False, profile_image_url='http://pbs.twimg.com/profile_images/1420860447457173504/SqcFCSJp_normal.jpg', profile_image_url_https='https://pbs.twimg.com/profile_images/1420860447457173504/SqcFCSJp_normal.jpg', profile_link_color='1DA1F2', profile_sidebar_border_color='C0DEED', profile_sidebar_fill_color='DDEEF6', profile_text_color='333333', profile_use_background_image=True, has_extended_profile=True, default_profile=True, default_profile_image=False, following=False, follow_request_sent=False, notifications=False, translator_type='none', withheld_in_countries=[]), user=User(_api=<tweepy.api.API object at 0x0000022032F14EE0>, _json={'id': 1420860034884440064, 'id_str': '1420860034884440064', 'name': 'wahwah', 'screen_name': 'wahwahbot', 'location': '', 'description': \"Sorry not sorry, you deserved the feedback.\\n \\nHave complaints (prolly won't read 😜): https://t.co/wvKqMI8bsq\", 'url': None, 'entities': {'description': {'urls': [{'url': 'https://t.co/wvKqMI8bsq', 'expanded_url': 'https://github.com/hassanali1228/twitter-emotion-bot/issues', 'display_url': 'github.com/hassanali1228/…', 'indices': [85, 108]}]}}, 'protected': False, 'followers_count': 2, 'friends_count': 3, 'listed_count': 0, 'created_at': 'Thu Jul 29 21:34:05 +0000 2021', 'favourites_count': 0, 'utc_offset': None, 'time_zone': None, 'geo_enabled': False, 'verified': False, 'statuses_count': 7, 'lang': None, 'contributors_enabled': False, 'is_translator': False, 'is_translation_enabled': False, 'profile_background_color': 'F5F8FA', 'profile_background_image_url': None, 'profile_background_image_url_https': None, 'profile_background_tile': False, 'profile_image_url': 'http://pbs.twimg.com/profile_images/1420860447457173504/SqcFCSJp_normal.jpg', 'profile_image_url_https': 'https://pbs.twimg.com/profile_images/1420860447457173504/SqcFCSJp_normal.jpg', 'profile_link_color': '1DA1F2', 'profile_sidebar_border_color': 'C0DEED', 'profile_sidebar_fill_color': 'DDEEF6', 'profile_text_color': '333333', 'profile_use_background_image': True, 'has_extended_profile': True, 'default_profile': True, 'default_profile_image': False, 'following': False, 'follow_request_sent': False, 'notifications': False, 'translator_type': 'none', 'withheld_in_countries': []}, id=1420860034884440064, id_str='1420860034884440064', name='wahwah', screen_name='wahwahbot', location='', description=\"Sorry not sorry, you deserved the feedback.\\n \\nHave complaints (prolly won't read 😜): https://t.co/wvKqMI8bsq\", url=None, entities={'description': {'urls': [{'url': 'https://t.co/wvKqMI8bsq', 'expanded_url': 'https://github.com/hassanali1228/twitter-emotion-bot/issues', 'display_url': 'github.com/hassanali1228/…', 'indices': [85, 108]}]}}, protected=False, followers_count=2, friends_count=3, listed_count=0, created_at=datetime.datetime(2021, 7, 29, 21, 34, 5), favourites_count=0, utc_offset=None, time_zone=None, geo_enabled=False, verified=False, statuses_count=7, lang=None, contributors_enabled=False, is_translator=False, is_translation_enabled=False, profile_background_color='F5F8FA', profile_background_image_url=None, profile_background_image_url_https=None, profile_background_tile=False, profile_image_url='http://pbs.twimg.com/profile_images/1420860447457173504/SqcFCSJp_normal.jpg', profile_image_url_https='https://pbs.twimg.com/profile_images/1420860447457173504/SqcFCSJp_normal.jpg', profile_link_color='1DA1F2', profile_sidebar_border_color='C0DEED', profile_sidebar_fill_color='DDEEF6', profile_text_color='333333', profile_use_background_image=True, has_extended_profile=True, default_profile=True, default_profile_image=False, following=False, follow_request_sent=False, notifications=False, translator_type='none', withheld_in_countries=[]), geo=None, coordinates=None, place=None, contributors=None, is_quote_status=False, retweet_count=0, favorite_count=0, favorited=False, retweeted=False, lang='und'), Status(_api=<tweepy.api.API object at 0x0000022032F14EE0>, _json={'created_at': 'Thu Aug 05 01:17:22 +0000 2021', 'id': 1423090722069262346, 'id_str': '1423090722069262346', 'text': '@wahwahbot', 'truncated': False, 'entities': {'hashtags': [], 'symbols': [], 'user_mentions': [{'screen_name': 'wahwahbot', 'name': 'wahwah', 'id': 1420860034884440064, 'id_str': '1420860034884440064', 'indices': [0, 10]}], 'urls': []}, 'source': '<a href=\"https://mobile.twitter.com\" rel=\"nofollow\">Twitter Web App</a>', 'in_reply_to_status_id': 1423090553655336963, 'in_reply_to_status_id_str': '1423090553655336963', 'in_reply_to_user_id': 1420860034884440064, 'in_reply_to_user_id_str': '1420860034884440064', 'in_reply_to_screen_name': 'wahwahbot', 'user': {'id': 1420860034884440064, 'id_str': '1420860034884440064', 'name': 'wahwah', 'screen_name': 'wahwahbot', 'location': '', 'description': \"Sorry not sorry, you deserved the feedback.\\n \\nHave complaints (prolly won't read 😜): https://t.co/wvKqMI8bsq\", 'url': None, 'entities': {'description': {'urls': [{'url': 'https://t.co/wvKqMI8bsq', 'expanded_url': 'https://github.com/hassanali1228/twitter-emotion-bot/issues', 'display_url': 'github.com/hassanali1228/…', 'indices': [85, 108]}]}}, 'protected': False, 'followers_count': 2, 'friends_count': 3, 'listed_count': 0, 'created_at': 'Thu Jul 29 21:34:05 +0000 2021', 'favourites_count': 0, 'utc_offset': None, 'time_zone': None, 'geo_enabled': False, 'verified': False, 'statuses_count': 7, 'lang': None, 'contributors_enabled': False, 'is_translator': False, 'is_translation_enabled': False, 'profile_background_color': 'F5F8FA', 'profile_background_image_url': None, 'profile_background_image_url_https': None, 'profile_background_tile': False, 'profile_image_url': 'http://pbs.twimg.com/profile_images/1420860447457173504/SqcFCSJp_normal.jpg', 'profile_image_url_https': 'https://pbs.twimg.com/profile_images/1420860447457173504/SqcFCSJp_normal.jpg', 'profile_link_color': '1DA1F2', 'profile_sidebar_border_color': 'C0DEED', 'profile_sidebar_fill_color': 'DDEEF6', 'profile_text_color': '333333', 'profile_use_background_image': True, 'has_extended_profile': True, 'default_profile': True, 'default_profile_image': False, 'following': False, 'follow_request_sent': False, 'notifications': False, 'translator_type': 'none', 'withheld_in_countries': []}, 'geo': None, 'coordinates': None, 'place': None, 'contributors': None, 'is_quote_status': False, 'retweet_count': 0, 'favorite_count': 0, 'favorited': False, 'retweeted': False, 'lang': 'und'}, created_at=datetime.datetime(2021, 8, 5, 1, 17, 22), id=1423090722069262346, id_str='1423090722069262346', text='@wahwahbot', truncated=False, entities={'hashtags': [], 'symbols': [], 'user_mentions': [{'screen_name': 'wahwahbot', 'name': 'wahwah', 'id': 1420860034884440064, 'id_str': '1420860034884440064', 'indices': [0, 10]}], 'urls': []}, source='Twitter Web App', source_url='https://mobile.twitter.com', in_reply_to_status_id=1423090553655336963, in_reply_to_status_id_str='1423090553655336963', in_reply_to_user_id=1420860034884440064, in_reply_to_user_id_str='1420860034884440064', in_reply_to_screen_name='wahwahbot', author=User(_api=<tweepy.api.API object at 0x0000022032F14EE0>, _json={'id': 1420860034884440064, 'id_str': '1420860034884440064', 'name': 'wahwah', 'screen_name': 'wahwahbot', 'location': '', 'description': \"Sorry not sorry, you deserved the feedback.\\n \\nHave complaints (prolly won't read 😜): https://t.co/wvKqMI8bsq\", 'url': None, 'entities': {'description': {'urls': [{'url': 'https://t.co/wvKqMI8bsq', 'expanded_url': 'https://github.com/hassanali1228/twitter-emotion-bot/issues', 'display_url': 'github.com/hassanali1228/…', 'indices': [85, 108]}]}}, 'protected': False, 'followers_count': 2, 'friends_count': 3, 'listed_count': 0, 'created_at': 'Thu Jul 29 21:34:05 +0000 2021', 'favourites_count': 0, 'utc_offset': None, 'time_zone': None, 'geo_enabled': False, 'verified': False, 'statuses_count': 7, 'lang': None, 'contributors_enabled': False, 'is_translator': False, 'is_translation_enabled': False, 'profile_background_color': 'F5F8FA', 'profile_background_image_url': None, 'profile_background_image_url_https': None, 'profile_background_tile': False, 'profile_image_url': 'http://pbs.twimg.com/profile_images/1420860447457173504/SqcFCSJp_normal.jpg', 'profile_image_url_https': 'https://pbs.twimg.com/profile_images/1420860447457173504/SqcFCSJp_normal.jpg', 'profile_link_color': '1DA1F2', 'profile_sidebar_border_color': 'C0DEED', 'profile_sidebar_fill_color': 'DDEEF6', 'profile_text_color': '333333', 'profile_use_background_image': True, 'has_extended_profile': True, 'default_profile': True, 'default_profile_image': False, 'following': False, 'follow_request_sent': False, 'notifications': False, 'translator_type': 'none', 'withheld_in_countries': []}, id=1420860034884440064, id_str='1420860034884440064', name='wahwah', screen_name='wahwahbot', location='', description=\"Sorry not sorry, you deserved the feedback.\\n \\nHave complaints (prolly won't read 😜): https://t.co/wvKqMI8bsq\", url=None, entities={'description': {'urls': [{'url': 'https://t.co/wvKqMI8bsq', 'expanded_url': 'https://github.com/hassanali1228/twitter-emotion-bot/issues', 'display_url': 'github.com/hassanali1228/…', 'indices': [85, 108]}]}}, protected=False, followers_count=2, friends_count=3, listed_count=0, created_at=datetime.datetime(2021, 7, 29, 21, 34, 5), favourites_count=0, utc_offset=None, time_zone=None, geo_enabled=False, verified=False, statuses_count=7, lang=None, contributors_enabled=False, is_translator=False, is_translation_enabled=False, profile_background_color='F5F8FA', profile_background_image_url=None, profile_background_image_url_https=None, profile_background_tile=False, profile_image_url='http://pbs.twimg.com/profile_images/1420860447457173504/SqcFCSJp_normal.jpg', profile_image_url_https='https://pbs.twimg.com/profile_images/1420860447457173504/SqcFCSJp_normal.jpg', profile_link_color='1DA1F2', profile_sidebar_border_color='C0DEED', profile_sidebar_fill_color='DDEEF6', profile_text_color='333333', profile_use_background_image=True, has_extended_profile=True, default_profile=True, default_profile_image=False, following=False, follow_request_sent=False, notifications=False, translator_type='none', withheld_in_countries=[]), user=User(_api=<tweepy.api.API object at 0x0000022032F14EE0>, _json={'id': 1420860034884440064, 'id_str': '1420860034884440064', 'name': 'wahwah', 'screen_name': 'wahwahbot', 'location': '', 'description': \"Sorry not sorry, you deserved the feedback.\\n \\nHave complaints (prolly won't read 😜): https://t.co/wvKqMI8bsq\", 'url': None, 'entities': {'description': {'urls': [{'url': 'https://t.co/wvKqMI8bsq', 'expanded_url': 'https://github.com/hassanali1228/twitter-emotion-bot/issues', 'display_url': 'github.com/hassanali1228/…', 'indices': [85, 108]}]}}, 'protected': False, 'followers_count': 2, 'friends_count': 3, 'listed_count': 0, 'created_at': 'Thu Jul 29 21:34:05 +0000 2021', 'favourites_count': 0, 'utc_offset': None, 'time_zone': None, 'geo_enabled': False, 'verified': False, 'statuses_count': 7, 'lang': None, 'contributors_enabled': False, 'is_translator': False, 'is_translation_enabled': False, 'profile_background_color': 'F5F8FA', 'profile_background_image_url': None, 'profile_background_image_url_https': None, 'profile_background_tile': False, 'profile_image_url': 'http://pbs.twimg.com/profile_images/1420860447457173504/SqcFCSJp_normal.jpg', 'profile_image_url_https': 'https://pbs.twimg.com/profile_images/1420860447457173504/SqcFCSJp_normal.jpg', 'profile_link_color': '1DA1F2', 'profile_sidebar_border_color': 'C0DEED', 'profile_sidebar_fill_color': 'DDEEF6', 'profile_text_color': '333333', 'profile_use_background_image': True, 'has_extended_profile': True, 'default_profile': True, 'default_profile_image': False, 'following': False, 'follow_request_sent': False, 'notifications': False, 'translator_type': 'none', 'withheld_in_countries': []}, id=1420860034884440064, id_str='1420860034884440064', name='wahwah', screen_name='wahwahbot', location='', description=\"Sorry not sorry, you deserved the feedback.\\n \\nHave complaints (prolly won't read 😜): https://t.co/wvKqMI8bsq\", url=None, entities={'description': {'urls': [{'url': 'https://t.co/wvKqMI8bsq', 'expanded_url': 'https://github.com/hassanali1228/twitter-emotion-bot/issues', 'display_url': 'github.com/hassanali1228/…', 'indices': [85, 108]}]}}, protected=False, followers_count=2, friends_count=3, listed_count=0, created_at=datetime.datetime(2021, 7, 29, 21, 34, 5), favourites_count=0, utc_offset=None, time_zone=None, geo_enabled=False, verified=False, statuses_count=7, lang=None, contributors_enabled=False, is_translator=False, is_translation_enabled=False, profile_background_color='F5F8FA', profile_background_image_url=None, profile_background_image_url_https=None, profile_background_tile=False, profile_image_url='http://pbs.twimg.com/profile_images/1420860447457173504/SqcFCSJp_normal.jpg', profile_image_url_https='https://pbs.twimg.com/profile_images/1420860447457173504/SqcFCSJp_normal.jpg', profile_link_color='1DA1F2', profile_sidebar_border_color='C0DEED', profile_sidebar_fill_color='DDEEF6', profile_text_color='333333', profile_use_background_image=True, has_extended_profile=True, default_profile=True, default_profile_image=False, following=False, follow_request_sent=False, notifications=False, translator_type='none', withheld_in_countries=[]), geo=None, coordinates=None, place=None, contributors=None, is_quote_status=False, retweet_count=0, favorite_count=0, favorited=False, retweeted=False, lang='und'), Status(_api=<tweepy.api.API object at 0x0000022032F14EE0>, _json={'created_at': 'Thu Aug 05 01:08:51 +0000 2021', 'id': 1423088578041716736, 'id_str': '1423088578041716736', 'text': '@wahwahbot', 'truncated': False, 'entities': {'hashtags': [], 'symbols': [], 'user_mentions': [{'screen_name': 'wahwahbot', 'name': 'wahwah', 'id': 1420860034884440064, 'id_str': '1420860034884440064', 'indices': [0, 10]}], 'urls': []}, 'source': '<a href=\"https://mobile.twitter.com\" rel=\"nofollow\">Twitter Web App</a>', 'in_reply_to_status_id': 1423088537906434054, 'in_reply_to_status_id_str': '1423088537906434054', 'in_reply_to_user_id': 1420860034884440064, 'in_reply_to_user_id_str': '1420860034884440064', 'in_reply_to_screen_name': 'wahwahbot', 'user': {'id': 1420860034884440064, 'id_str': '1420860034884440064', 'name': 'wahwah', 'screen_name': 'wahwahbot', 'location': '', 'description': \"Sorry not sorry, you deserved the feedback.\\n \\nHave complaints (prolly won't read 😜): https://t.co/wvKqMI8bsq\", 'url': None, 'entities': {'description': {'urls': [{'url': 'https://t.co/wvKqMI8bsq', 'expanded_url': 'https://github.com/hassanali1228/twitter-emotion-bot/issues', 'display_url': 'github.com/hassanali1228/…', 'indices': [85, 108]}]}}, 'protected': False, 'followers_count': 2, 'friends_count': 3, 'listed_count': 0, 'created_at': 'Thu Jul 29 21:34:05 +0000 2021', 'favourites_count': 0, 'utc_offset': None, 'time_zone': None, 'geo_enabled': False, 'verified': False, 'statuses_count': 7, 'lang': None, 'contributors_enabled': False, 'is_translator': False, 'is_translation_enabled': False, 'profile_background_color': 'F5F8FA', 'profile_background_image_url': None, 'profile_background_image_url_https': None, 'profile_background_tile': False, 'profile_image_url': 'http://pbs.twimg.com/profile_images/1420860447457173504/SqcFCSJp_normal.jpg', 'profile_image_url_https': 'https://pbs.twimg.com/profile_images/1420860447457173504/SqcFCSJp_normal.jpg', 'profile_link_color': '1DA1F2', 'profile_sidebar_border_color': 'C0DEED', 'profile_sidebar_fill_color': 'DDEEF6', 'profile_text_color': '333333', 'profile_use_background_image': True, 'has_extended_profile': True, 'default_profile': True, 'default_profile_image': False, 'following': False, 'follow_request_sent': False, 'notifications': False, 'translator_type': 'none', 'withheld_in_countries': []}, 'geo': None, 'coordinates': None, 'place': None, 'contributors': None, 'is_quote_status': False, 'retweet_count': 0, 'favorite_count': 0, 'favorited': False, 'retweeted': False, 'lang': 'und'}, created_at=datetime.datetime(2021, 8, 5, 1, 8, 51), id=1423088578041716736, id_str='1423088578041716736', text='@wahwahbot', truncated=False, entities={'hashtags': [], 'symbols': [], 'user_mentions': [{'screen_name': 'wahwahbot', 'name': 'wahwah', 'id': 1420860034884440064, 'id_str': '1420860034884440064', 'indices': [0, 10]}], 'urls': []}, source='Twitter Web App', source_url='https://mobile.twitter.com', in_reply_to_status_id=1423088537906434054, in_reply_to_status_id_str='1423088537906434054', in_reply_to_user_id=1420860034884440064, in_reply_to_user_id_str='1420860034884440064', in_reply_to_screen_name='wahwahbot', author=User(_api=<tweepy.api.API object at 0x0000022032F14EE0>, _json={'id': 1420860034884440064, 'id_str': '1420860034884440064', 'name': 'wahwah', 'screen_name': 'wahwahbot', 'location': '', 'description': \"Sorry not sorry, you deserved the feedback.\\n \\nHave complaints (prolly won't read 😜): https://t.co/wvKqMI8bsq\", 'url': None, 'entities': {'description': {'urls': [{'url': 'https://t.co/wvKqMI8bsq', 'expanded_url': 'https://github.com/hassanali1228/twitter-emotion-bot/issues', 'display_url': 'github.com/hassanali1228/…', 'indices': [85, 108]}]}}, 'protected': False, 'followers_count': 2, 'friends_count': 3, 'listed_count': 0, 'created_at': 'Thu Jul 29 21:34:05 +0000 2021', 'favourites_count': 0, 'utc_offset': None, 'time_zone': None, 'geo_enabled': False, 'verified': False, 'statuses_count': 7, 'lang': None, 'contributors_enabled': False, 'is_translator': False, 'is_translation_enabled': False, 'profile_background_color': 'F5F8FA', 'profile_background_image_url': None, 'profile_background_image_url_https': None, 'profile_background_tile': False, 'profile_image_url': 'http://pbs.twimg.com/profile_images/1420860447457173504/SqcFCSJp_normal.jpg', 'profile_image_url_https': 'https://pbs.twimg.com/profile_images/1420860447457173504/SqcFCSJp_normal.jpg', 'profile_link_color': '1DA1F2', 'profile_sidebar_border_color': 'C0DEED', 'profile_sidebar_fill_color': 'DDEEF6', 'profile_text_color': '333333', 'profile_use_background_image': True, 'has_extended_profile': True, 'default_profile': True, 'default_profile_image': False, 'following': False, 'follow_request_sent': False, 'notifications': False, 'translator_type': 'none', 'withheld_in_countries': []}, id=1420860034884440064, id_str='1420860034884440064', name='wahwah', screen_name='wahwahbot', location='', description=\"Sorry not sorry, you deserved the feedback.\\n \\nHave complaints (prolly won't read 😜): https://t.co/wvKqMI8bsq\", url=None, entities={'description': {'urls': [{'url': 'https://t.co/wvKqMI8bsq', 'expanded_url': 'https://github.com/hassanali1228/twitter-emotion-bot/issues', 'display_url': 'github.com/hassanali1228/…', 'indices': [85, 108]}]}}, protected=False, followers_count=2, friends_count=3, listed_count=0, created_at=datetime.datetime(2021, 7, 29, 21, 34, 5), favourites_count=0, utc_offset=None, time_zone=None, geo_enabled=False, verified=False, statuses_count=7, lang=None, contributors_enabled=False, is_translator=False, is_translation_enabled=False, profile_background_color='F5F8FA', profile_background_image_url=None, profile_background_image_url_https=None, profile_background_tile=False, profile_image_url='http://pbs.twimg.com/profile_images/1420860447457173504/SqcFCSJp_normal.jpg', profile_image_url_https='https://pbs.twimg.com/profile_images/1420860447457173504/SqcFCSJp_normal.jpg', profile_link_color='1DA1F2', profile_sidebar_border_color='C0DEED', profile_sidebar_fill_color='DDEEF6', profile_text_color='333333', profile_use_background_image=True, has_extended_profile=True, default_profile=True, default_profile_image=False, following=False, follow_request_sent=False, notifications=False, translator_type='none', withheld_in_countries=[]), user=User(_api=<tweepy.api.API object at 0x0000022032F14EE0>, _json={'id': 1420860034884440064, 'id_str': '1420860034884440064', 'name': 'wahwah', 'screen_name': 'wahwahbot', 'location': '', 'description': \"Sorry not sorry, you deserved the feedback.\\n \\nHave complaints (prolly won't read 😜): https://t.co/wvKqMI8bsq\", 'url': None, 'entities': {'description': {'urls': [{'url': 'https://t.co/wvKqMI8bsq', 'expanded_url': 'https://github.com/hassanali1228/twitter-emotion-bot/issues', 'display_url': 'github.com/hassanali1228/…', 'indices': [85, 108]}]}}, 'protected': False, 'followers_count': 2, 'friends_count': 3, 'listed_count': 0, 'created_at': 'Thu Jul 29 21:34:05 +0000 2021', 'favourites_count': 0, 'utc_offset': None, 'time_zone': None, 'geo_enabled': False, 'verified': False, 'statuses_count': 7, 'lang': None, 'contributors_enabled': False, 'is_translator': False, 'is_translation_enabled': False, 'profile_background_color': 'F5F8FA', 'profile_background_image_url': None, 'profile_background_image_url_https': None, 'profile_background_tile': False, 'profile_image_url': 'http://pbs.twimg.com/profile_images/1420860447457173504/SqcFCSJp_normal.jpg', 'profile_image_url_https': 'https://pbs.twimg.com/profile_images/1420860447457173504/SqcFCSJp_normal.jpg', 'profile_link_color': '1DA1F2', 'profile_sidebar_border_color': 'C0DEED', 'profile_sidebar_fill_color': 'DDEEF6', 'profile_text_color': '333333', 'profile_use_background_image': True, 'has_extended_profile': True, 'default_profile': True, 'default_profile_image': False, 'following': False, 'follow_request_sent': False, 'notifications': False, 'translator_type': 'none', 'withheld_in_countries': []}, id=1420860034884440064, id_str='1420860034884440064', name='wahwah', screen_name='wahwahbot', location='', description=\"Sorry not sorry, you deserved the feedback.\\n \\nHave complaints (prolly won't read 😜): https://t.co/wvKqMI8bsq\", url=None, entities={'description': {'urls': [{'url': 'https://t.co/wvKqMI8bsq', 'expanded_url': 'https://github.com/hassanali1228/twitter-emotion-bot/issues', 'display_url': 'github.com/hassanali1228/…', 'indices': [85, 108]}]}}, protected=False, followers_count=2, friends_count=3, listed_count=0, created_at=datetime.datetime(2021, 7, 29, 21, 34, 5), favourites_count=0, utc_offset=None, time_zone=None, geo_enabled=False, verified=False, statuses_count=7, lang=None, contributors_enabled=False, is_translator=False, is_translation_enabled=False, profile_background_color='F5F8FA', profile_background_image_url=None, profile_background_image_url_https=None, profile_background_tile=False, profile_image_url='http://pbs.twimg.com/profile_images/1420860447457173504/SqcFCSJp_normal.jpg', profile_image_url_https='https://pbs.twimg.com/profile_images/1420860447457173504/SqcFCSJp_normal.jpg', profile_link_color='1DA1F2', profile_sidebar_border_color='C0DEED', profile_sidebar_fill_color='DDEEF6', profile_text_color='333333', profile_use_background_image=True, has_extended_profile=True, default_profile=True, default_profile_image=False, following=False, follow_request_sent=False, notifications=False, translator_type='none', withheld_in_countries=[]), geo=None, coordinates=None, place=None, contributors=None, is_quote_status=False, retweet_count=0, favorite_count=0, favorited=False, retweeted=False, lang='und'), Status(_api=<tweepy.api.API object at 0x0000022032F14EE0>, _json={'created_at': 'Wed Aug 04 22:55:51 +0000 2021', 'id': 1423055108070313996, 'id_str': '1423055108070313996', 'text': '@aaronbronsteter @wahwahbot', 'truncated': False, 'entities': {'hashtags': [], 'symbols': [], 'user_mentions': [{'screen_name': 'aaronbronsteter', 'name': 'Aaron Bronsteter', 'id': 25122451, 'id_str': '25122451', 'indices': [0, 16]}, {'screen_name': 'wahwahbot', 'name': 'wahwah', 'id': 1420860034884440064, 'id_str': '1420860034884440064', 'indices': [17, 27]}], 'urls': []}, 'source': '<a href=\"https://mobile.twitter.com\" rel=\"nofollow\">Twitter Web App</a>', 'in_reply_to_status_id': 1423020591444107264, 'in_reply_to_status_id_str': '1423020591444107264', 'in_reply_to_user_id': 25122451, 'in_reply_to_user_id_str': '25122451', 'in_reply_to_screen_name': 'aaronbronsteter', 'user': {'id': 1420860034884440064, 'id_str': '1420860034884440064', 'name': 'wahwah', 'screen_name': 'wahwahbot', 'location': '', 'description': \"Sorry not sorry, you deserved the feedback.\\n \\nHave complaints (prolly won't read 😜): https://t.co/wvKqMI8bsq\", 'url': None, 'entities': {'description': {'urls': [{'url': 'https://t.co/wvKqMI8bsq', 'expanded_url': 'https://github.com/hassanali1228/twitter-emotion-bot/issues', 'display_url': 'github.com/hassanali1228/…', 'indices': [85, 108]}]}}, 'protected': False, 'followers_count': 2, 'friends_count': 3, 'listed_count': 0, 'created_at': 'Thu Jul 29 21:34:05 +0000 2021', 'favourites_count': 0, 'utc_offset': None, 'time_zone': None, 'geo_enabled': False, 'verified': False, 'statuses_count': 7, 'lang': None, 'contributors_enabled': False, 'is_translator': False, 'is_translation_enabled': False, 'profile_background_color': 'F5F8FA', 'profile_background_image_url': None, 'profile_background_image_url_https': None, 'profile_background_tile': False, 'profile_image_url': 'http://pbs.twimg.com/profile_images/1420860447457173504/SqcFCSJp_normal.jpg', 'profile_image_url_https': 'https://pbs.twimg.com/profile_images/1420860447457173504/SqcFCSJp_normal.jpg', 'profile_link_color': '1DA1F2', 'profile_sidebar_border_color': 'C0DEED', 'profile_sidebar_fill_color': 'DDEEF6', 'profile_text_color': '333333', 'profile_use_background_image': True, 'has_extended_profile': True, 'default_profile': True, 'default_profile_image': False, 'following': False, 'follow_request_sent': False, 'notifications': False, 'translator_type': 'none', 'withheld_in_countries': []}, 'geo': None, 'coordinates': None, 'place': None, 'contributors': None, 'is_quote_status': False, 'retweet_count': 0, 'favorite_count': 0, 'favorited': False, 'retweeted': False, 'lang': 'und'}, created_at=datetime.datetime(2021, 8, 4, 22, 55, 51), id=1423055108070313996, id_str='1423055108070313996', text='@aaronbronsteter @wahwahbot', truncated=False, entities={'hashtags': [], 'symbols': [], 'user_mentions': [{'screen_name': 'aaronbronsteter', 'name': 'Aaron Bronsteter', 'id': 25122451, 'id_str': '25122451', 'indices': [0, 16]}, {'screen_name': 'wahwahbot', 'name': 'wahwah', 'id': 1420860034884440064, 'id_str': '1420860034884440064', 'indices': [17, 27]}], 'urls': []}, source='Twitter Web App', source_url='https://mobile.twitter.com', in_reply_to_status_id=1423020591444107264, in_reply_to_status_id_str='1423020591444107264', in_reply_to_user_id=25122451, in_reply_to_user_id_str='25122451', in_reply_to_screen_name='aaronbronsteter', author=User(_api=<tweepy.api.API object at 0x0000022032F14EE0>, _json={'id': 1420860034884440064, 'id_str': '1420860034884440064', 'name': 'wahwah', 'screen_name': 'wahwahbot', 'location': '', 'description': \"Sorry not sorry, you deserved the feedback.\\n \\nHave complaints (prolly won't read 😜): https://t.co/wvKqMI8bsq\", 'url': None, 'entities': {'description': {'urls': [{'url': 'https://t.co/wvKqMI8bsq', 'expanded_url': 'https://github.com/hassanali1228/twitter-emotion-bot/issues', 'display_url': 'github.com/hassanali1228/…', 'indices': [85, 108]}]}}, 'protected': False, 'followers_count': 2, 'friends_count': 3, 'listed_count': 0, 'created_at': 'Thu Jul 29 21:34:05 +0000 2021', 'favourites_count': 0, 'utc_offset': None, 'time_zone': None, 'geo_enabled': False, 'verified': False, 'statuses_count': 7, 'lang': None, 'contributors_enabled': False, 'is_translator': False, 'is_translation_enabled': False, 'profile_background_color': 'F5F8FA', 'profile_background_image_url': None, 'profile_background_image_url_https': None, 'profile_background_tile': False, 'profile_image_url': 'http://pbs.twimg.com/profile_images/1420860447457173504/SqcFCSJp_normal.jpg', 'profile_image_url_https': 'https://pbs.twimg.com/profile_images/1420860447457173504/SqcFCSJp_normal.jpg', 'profile_link_color': '1DA1F2', 'profile_sidebar_border_color': 'C0DEED', 'profile_sidebar_fill_color': 'DDEEF6', 'profile_text_color': '333333', 'profile_use_background_image': True, 'has_extended_profile': True, 'default_profile': True, 'default_profile_image': False, 'following': False, 'follow_request_sent': False, 'notifications': False, 'translator_type': 'none', 'withheld_in_countries': []}, id=1420860034884440064, id_str='1420860034884440064', name='wahwah', screen_name='wahwahbot', location='', description=\"Sorry not sorry, you deserved the feedback.\\n \\nHave complaints (prolly won't read 😜): https://t.co/wvKqMI8bsq\", url=None, entities={'description': {'urls': [{'url': 'https://t.co/wvKqMI8bsq', 'expanded_url': 'https://github.com/hassanali1228/twitter-emotion-bot/issues', 'display_url': 'github.com/hassanali1228/…', 'indices': [85, 108]}]}}, protected=False, followers_count=2, friends_count=3, listed_count=0, created_at=datetime.datetime(2021, 7, 29, 21, 34, 5), favourites_count=0, utc_offset=None, time_zone=None, geo_enabled=False, verified=False, statuses_count=7, lang=None, contributors_enabled=False, is_translator=False, is_translation_enabled=False, profile_background_color='F5F8FA', profile_background_image_url=None, profile_background_image_url_https=None, profile_background_tile=False, profile_image_url='http://pbs.twimg.com/profile_images/1420860447457173504/SqcFCSJp_normal.jpg', profile_image_url_https='https://pbs.twimg.com/profile_images/1420860447457173504/SqcFCSJp_normal.jpg', profile_link_color='1DA1F2', profile_sidebar_border_color='C0DEED', profile_sidebar_fill_color='DDEEF6', profile_text_color='333333', profile_use_background_image=True, has_extended_profile=True, default_profile=True, default_profile_image=False, following=False, follow_request_sent=False, notifications=False, translator_type='none', withheld_in_countries=[]), user=User(_api=<tweepy.api.API object at 0x0000022032F14EE0>, _json={'id': 1420860034884440064, 'id_str': '1420860034884440064', 'name': 'wahwah', 'screen_name': 'wahwahbot', 'location': '', 'description': \"Sorry not sorry, you deserved the feedback.\\n \\nHave complaints (prolly won't read 😜): https://t.co/wvKqMI8bsq\", 'url': None, 'entities': {'description': {'urls': [{'url': 'https://t.co/wvKqMI8bsq', 'expanded_url': 'https://github.com/hassanali1228/twitter-emotion-bot/issues', 'display_url': 'github.com/hassanali1228/…', 'indices': [85, 108]}]}}, 'protected': False, 'followers_count': 2, 'friends_count': 3, 'listed_count': 0, 'created_at': 'Thu Jul 29 21:34:05 +0000 2021', 'favourites_count': 0, 'utc_offset': None, 'time_zone': None, 'geo_enabled': False, 'verified': False, 'statuses_count': 7, 'lang': None, 'contributors_enabled': False, 'is_translator': False, 'is_translation_enabled': False, 'profile_background_color': 'F5F8FA', 'profile_background_image_url': None, 'profile_background_image_url_https': None, 'profile_background_tile': False, 'profile_image_url': 'http://pbs.twimg.com/profile_images/1420860447457173504/SqcFCSJp_normal.jpg', 'profile_image_url_https': 'https://pbs.twimg.com/profile_images/1420860447457173504/SqcFCSJp_normal.jpg', 'profile_link_color': '1DA1F2', 'profile_sidebar_border_color': 'C0DEED', 'profile_sidebar_fill_color': 'DDEEF6', 'profile_text_color': '333333', 'profile_use_background_image': True, 'has_extended_profile': True, 'default_profile': True, 'default_profile_image': False, 'following': False, 'follow_request_sent': False, 'notifications': False, 'translator_type': 'none', 'withheld_in_countries': []}, id=1420860034884440064, id_str='1420860034884440064', name='wahwah', screen_name='wahwahbot', location='', description=\"Sorry not sorry, you deserved the feedback.\\n \\nHave complaints (prolly won't read 😜): https://t.co/wvKqMI8bsq\", url=None, entities={'description': {'urls': [{'url': 'https://t.co/wvKqMI8bsq', 'expanded_url': 'https://github.com/hassanali1228/twitter-emotion-bot/issues', 'display_url': 'github.com/hassanali1228/…', 'indices': [85, 108]}]}}, protected=False, followers_count=2, friends_count=3, listed_count=0, created_at=datetime.datetime(2021, 7, 29, 21, 34, 5), favourites_count=0, utc_offset=None, time_zone=None, geo_enabled=False, verified=False, statuses_count=7, lang=None, contributors_enabled=False, is_translator=False, is_translation_enabled=False, profile_background_color='F5F8FA', profile_background_image_url=None, profile_background_image_url_https=None, profile_background_tile=False, profile_image_url='http://pbs.twimg.com/profile_images/1420860447457173504/SqcFCSJp_normal.jpg', profile_image_url_https='https://pbs.twimg.com/profile_images/1420860447457173504/SqcFCSJp_normal.jpg', profile_link_color='1DA1F2', profile_sidebar_border_color='C0DEED', profile_sidebar_fill_color='DDEEF6', profile_text_color='333333', profile_use_background_image=True, has_extended_profile=True, default_profile=True, default_profile_image=False, following=False, follow_request_sent=False, notifications=False, translator_type='none', withheld_in_countries=[]), geo=None, coordinates=None, place=None, contributors=None, is_quote_status=False, retweet_count=0, favorite_count=0, favorited=False, retweeted=False, lang='und')]\n",
      "1423091876656259072-@wahwahbot\n",
      "1423090722069262346-@wahwahbot\n",
      "1423088578041716736-@wahwahbot\n",
      "1423055108070313996-@aaronbronsteter @wahwahbot\n"
     ]
    }
   ],
   "metadata": {}
  },
  {
   "cell_type": "code",
   "execution_count": 332,
   "source": [
    "dftweet = pd.DataFrame(['I hate him'],columns = [\"Column2\"])\r\n",
    "dftweet.head()\r\n"
   ],
   "outputs": [
    {
     "output_type": "execute_result",
     "data": {
      "text/plain": [
       "      Column2\n",
       "0  I hate him"
      ],
      "text/html": [
       "<div>\n",
       "<style scoped>\n",
       "    .dataframe tbody tr th:only-of-type {\n",
       "        vertical-align: middle;\n",
       "    }\n",
       "\n",
       "    .dataframe tbody tr th {\n",
       "        vertical-align: top;\n",
       "    }\n",
       "\n",
       "    .dataframe thead th {\n",
       "        text-align: right;\n",
       "    }\n",
       "</style>\n",
       "<table border=\"1\" class=\"dataframe\">\n",
       "  <thead>\n",
       "    <tr style=\"text-align: right;\">\n",
       "      <th></th>\n",
       "      <th>Column2</th>\n",
       "    </tr>\n",
       "  </thead>\n",
       "  <tbody>\n",
       "    <tr>\n",
       "      <th>0</th>\n",
       "      <td>I hate him</td>\n",
       "    </tr>\n",
       "  </tbody>\n",
       "</table>\n",
       "</div>"
      ]
     },
     "metadata": {},
     "execution_count": 332
    }
   ],
   "metadata": {}
  },
  {
   "cell_type": "code",
   "execution_count": 333,
   "source": [
    "#clean tweets\r\n",
    "def cleanTxt(text):\r\n",
    "  text =re.sub(r'@[A-Za-z0-9]+','',text) #remove @\r\n",
    "  text = re.sub(r'#','',text)# remove #\r\n",
    "  text = re.sub(r'RT[\\s]+','',text)# remove RT\r\n",
    "  text = re.sub(r'https?:\\/\\/\\S+','',text)#remove hyperlink\r\n",
    "\r\n",
    "  return text\r\n",
    "\r\n",
    "dftweet['Column2']= dftweet['Column2'].apply(cleanTxt)\r\n",
    "print(dftweet)\r\n"
   ],
   "outputs": [
    {
     "output_type": "stream",
     "name": "stdout",
     "text": [
      "      Column2\n",
      "0  I hate him\n"
     ]
    }
   ],
   "metadata": {}
  },
  {
   "cell_type": "code",
   "execution_count": 334,
   "source": [
    "df = pd.read_csv('./datasets/combined.csv')\r\n",
    "df = pd.read_csv('./datasets/new.csv')\r\n",
    "df.Column1 =df.Column1.astype(str)\r\n",
    "df.Column2 =df.Column2.astype(str)\r\n",
    "df['Column1']= df['Column1'].apply(cleanTxt)\r\n",
    "df.head()\r\n",
    "#df.shape"
   ],
   "outputs": [
    {
     "output_type": "execute_result",
     "data": {
      "text/plain": [
       "                                             Column1  Column2\n",
       "0                            i didnt feel humiliated  sadness\n",
       "1  i can go from feeling so hopeless to so damned...  sadness\n",
       "2   im grabbing a minute to post i feel greedy wrong    anger\n",
       "3  i am ever feeling nostalgic about the fireplac...     love\n",
       "4                               i am feeling grouchy    anger"
      ],
      "text/html": [
       "<div>\n",
       "<style scoped>\n",
       "    .dataframe tbody tr th:only-of-type {\n",
       "        vertical-align: middle;\n",
       "    }\n",
       "\n",
       "    .dataframe tbody tr th {\n",
       "        vertical-align: top;\n",
       "    }\n",
       "\n",
       "    .dataframe thead th {\n",
       "        text-align: right;\n",
       "    }\n",
       "</style>\n",
       "<table border=\"1\" class=\"dataframe\">\n",
       "  <thead>\n",
       "    <tr style=\"text-align: right;\">\n",
       "      <th></th>\n",
       "      <th>Column1</th>\n",
       "      <th>Column2</th>\n",
       "    </tr>\n",
       "  </thead>\n",
       "  <tbody>\n",
       "    <tr>\n",
       "      <th>0</th>\n",
       "      <td>i didnt feel humiliated</td>\n",
       "      <td>sadness</td>\n",
       "    </tr>\n",
       "    <tr>\n",
       "      <th>1</th>\n",
       "      <td>i can go from feeling so hopeless to so damned...</td>\n",
       "      <td>sadness</td>\n",
       "    </tr>\n",
       "    <tr>\n",
       "      <th>2</th>\n",
       "      <td>im grabbing a minute to post i feel greedy wrong</td>\n",
       "      <td>anger</td>\n",
       "    </tr>\n",
       "    <tr>\n",
       "      <th>3</th>\n",
       "      <td>i am ever feeling nostalgic about the fireplac...</td>\n",
       "      <td>love</td>\n",
       "    </tr>\n",
       "    <tr>\n",
       "      <th>4</th>\n",
       "      <td>i am feeling grouchy</td>\n",
       "      <td>anger</td>\n",
       "    </tr>\n",
       "  </tbody>\n",
       "</table>\n",
       "</div>"
      ]
     },
     "metadata": {},
     "execution_count": 334
    }
   ],
   "metadata": {}
  },
  {
   "cell_type": "code",
   "execution_count": 335,
   "source": [
    "indexNames = df[ df['Column2'] == 'nan' ].index\r\n",
    "df.drop(indexNames , inplace=True)\r\n",
    "df['Column2'].value_counts()\r\n"
   ],
   "outputs": [
    {
     "output_type": "execute_result",
     "data": {
      "text/plain": [
       "joy         5362\n",
       "sadness     4666\n",
       "anger       2159\n",
       "fear        1937\n",
       "love        1304\n",
       "surprise     572\n",
       "Name: Column2, dtype: int64"
      ]
     },
     "metadata": {},
     "execution_count": 335
    }
   ],
   "metadata": {}
  },
  {
   "cell_type": "code",
   "execution_count": 336,
   "source": [
    "\r\n",
    "tokenizer = Tokenizer(num_words=5000,split =\" \")\r\n",
    "tokenizer.fit_on_texts(df['Column1'].values)\r\n",
    "\r\n",
    "df_x = tokenizer.texts_to_sequences(df['Column1'].values)\r\n",
    "df_x = pad_sequences(df_x)\r\n",
    "print(df_x[:5])\r\n",
    "\r\n",
    "tokenizer.fit_on_texts(dftweet['Column2'].values)\r\n",
    "x_tweet = tokenizer.texts_to_sequences(dftweet['Column2'].values)\r\n",
    "x_tweet = pad_sequences(x_tweet)\r\n",
    "\r\n",
    "print(df_x.shape)"
   ],
   "outputs": [
    {
     "output_type": "stream",
     "name": "stdout",
     "text": [
      "[[   0    0    0    0    0    0    0    0    0    0    0    0    0    0\n",
      "     0    0    0    0    0    0    0    0    0    0    0    0    0    0\n",
      "     0    0    0    0    0    0    0    0    0    0    0    0    0    0\n",
      "     0    0    0    0    0    0    0    0    0    0    0    0    0    0\n",
      "     0    0    0    1  138    2  678]\n",
      " [   0    0    0    0    0    0    0    0    0    0    0    0    0    0\n",
      "     0    0    0    0    0    0    0    0    0    0    0    0    0    0\n",
      "     0    0    0    0    0    0    0    0    0    0    0    0    0    0\n",
      "     1   39  100   59    7   14  493    4   14 3495  552   31   59   60\n",
      "   127  147   75 1479    3   21 1254]\n",
      " [   0    0    0    0    0    0    0    0    0    0    0    0    0    0\n",
      "     0    0    0    0    0    0    0    0    0    0    0    0    0    0\n",
      "     0    0    0    0    0    0    0    0    0    0    0    0    0    0\n",
      "     0    0    0    0    0    0    0    0    0    0    0   16 3059    6\n",
      "  1148    4  285    1    2  494  437]\n",
      " [   0    0    0    0    0    0    0    0    0    0    0    0    0    0\n",
      "     0    0    0    0    0    0    0    0    0    0    0    0    0    0\n",
      "     0    0    0    0    0    0    0    0    0    0    0    0    0    0\n",
      "     0    0    0    1   23  164    7  664   26    5 4157    1   58   46\n",
      "     8   12   21   71   29    5 3496]\n",
      " [   0    0    0    0    0    0    0    0    0    0    0    0    0    0\n",
      "     0    0    0    0    0    0    0    0    0    0    0    0    0    0\n",
      "     0    0    0    0    0    0    0    0    0    0    0    0    0    0\n",
      "     0    0    0    0    0    0    0    0    0    0    0    0    0    0\n",
      "     0    0    0    1   23    7 1064]]\n",
      "(16000, 63)\n"
     ]
    }
   ],
   "metadata": {}
  },
  {
   "cell_type": "code",
   "execution_count": 337,
   "source": [
    "df_y = pd.get_dummies(df['Column2']).values\r\n",
    "[print(df['Column2'][i],df_y[i]) for i in range(101,135)]\r\n",
    "print(df_x.shape)\r\n",
    "print(df_y.shape)\r\n",
    "x_train,x_test,y_train,y_test = train_test_split(df_x,df_y,test_size = 0.2,random_state = 0)"
   ],
   "outputs": [
    {
     "output_type": "stream",
     "name": "stdout",
     "text": [
      "joy [0 0 1 0 0 0]\n",
      "joy [0 0 1 0 0 0]\n",
      "joy [0 0 1 0 0 0]\n",
      "sadness [0 0 0 0 1 0]\n",
      "joy [0 0 1 0 0 0]\n",
      "joy [0 0 1 0 0 0]\n",
      "joy [0 0 1 0 0 0]\n",
      "joy [0 0 1 0 0 0]\n",
      "sadness [0 0 0 0 1 0]\n",
      "joy [0 0 1 0 0 0]\n",
      "joy [0 0 1 0 0 0]\n",
      "love [0 0 0 1 0 0]\n",
      "sadness [0 0 0 0 1 0]\n",
      "sadness [0 0 0 0 1 0]\n",
      "joy [0 0 1 0 0 0]\n",
      "joy [0 0 1 0 0 0]\n",
      "sadness [0 0 0 0 1 0]\n",
      "joy [0 0 1 0 0 0]\n",
      "joy [0 0 1 0 0 0]\n",
      "fear [0 1 0 0 0 0]\n",
      "fear [0 1 0 0 0 0]\n",
      "fear [0 1 0 0 0 0]\n",
      "sadness [0 0 0 0 1 0]\n",
      "love [0 0 0 1 0 0]\n",
      "joy [0 0 1 0 0 0]\n",
      "joy [0 0 1 0 0 0]\n",
      "love [0 0 0 1 0 0]\n",
      "fear [0 1 0 0 0 0]\n",
      "surprise [0 0 0 0 0 1]\n",
      "joy [0 0 1 0 0 0]\n",
      "joy [0 0 1 0 0 0]\n",
      "joy [0 0 1 0 0 0]\n",
      "joy [0 0 1 0 0 0]\n",
      "anger [1 0 0 0 0 0]\n",
      "(16000, 63)\n",
      "(16000, 6)\n"
     ]
    }
   ],
   "metadata": {}
  },
  {
   "cell_type": "code",
   "execution_count": 339,
   "source": [
    "model = Sequential()\r\n",
    "model.add(Embedding(5000,256,input_length=df_x.shape[1]))\r\n",
    "#model.add(Dense(4, activation='softmax'))\r\n",
    "model.add(Dropout(0.3))\r\n",
    "model.add(LSTM(256,return_sequences=True,dropout=0.3,recurrent_dropout=0.2))\r\n",
    "model.add(LSTM(256,dropout=0.3,recurrent_dropout=0.2))\r\n",
    "model.add(Dense(6,activation='softmax'))"
   ],
   "outputs": [],
   "metadata": {}
  },
  {
   "cell_type": "code",
   "execution_count": 341,
   "source": [
    "model.compile(loss='categorical_crossentropy', optimizer='adam',metrics = ['accuracy'])\r\n",
    "model.summary()"
   ],
   "outputs": [
    {
     "output_type": "stream",
     "name": "stdout",
     "text": [
      "Model: \"sequential_19\"\n",
      "_________________________________________________________________\n",
      "Layer (type)                 Output Shape              Param #   \n",
      "=================================================================\n",
      "embedding_18 (Embedding)     (None, 63, 256)           1280000   \n",
      "_________________________________________________________________\n",
      "dropout_18 (Dropout)         (None, 63, 256)           0         \n",
      "_________________________________________________________________\n",
      "lstm_30 (LSTM)               (None, 63, 256)           525312    \n",
      "_________________________________________________________________\n",
      "lstm_31 (LSTM)               (None, 256)               525312    \n",
      "_________________________________________________________________\n",
      "dense_24 (Dense)             (None, 6)                 1542      \n",
      "=================================================================\n",
      "Total params: 2,332,166\n",
      "Trainable params: 2,332,166\n",
      "Non-trainable params: 0\n",
      "_________________________________________________________________\n"
     ]
    }
   ],
   "metadata": {}
  },
  {
   "cell_type": "code",
   "execution_count": 343,
   "source": [
    "model.fit(x_train, y_train,epochs=10,batch_size =32,verbose=2,validation_data=(x_test, y_test))"
   ],
   "outputs": [
    {
     "output_type": "stream",
     "name": "stdout",
     "text": [
      "Epoch 1/10\n",
      "400/400 - 786s - loss: 1.0982 - accuracy: 0.5866 - val_loss: 0.4337 - val_accuracy: 0.8569\n",
      "Epoch 2/10\n",
      "400/400 - 767s - loss: 0.2691 - accuracy: 0.9089 - val_loss: 0.2164 - val_accuracy: 0.9169\n",
      "Epoch 3/10\n",
      "400/400 - 769s - loss: 0.1417 - accuracy: 0.9405 - val_loss: 0.1412 - val_accuracy: 0.9353\n",
      "Epoch 4/10\n",
      "400/400 - 761s - loss: 0.1016 - accuracy: 0.9519 - val_loss: 0.1797 - val_accuracy: 0.9297\n",
      "Epoch 5/10\n",
      "400/400 - 727s - loss: 0.0842 - accuracy: 0.9628 - val_loss: 0.1970 - val_accuracy: 0.9234\n",
      "Epoch 6/10\n",
      "400/400 - 729s - loss: 0.0774 - accuracy: 0.9666 - val_loss: 0.2288 - val_accuracy: 0.9250\n",
      "Epoch 7/10\n",
      "400/400 - 728s - loss: 0.0653 - accuracy: 0.9724 - val_loss: 0.1862 - val_accuracy: 0.9328\n",
      "Epoch 8/10\n",
      "400/400 - 740s - loss: 0.0543 - accuracy: 0.9769 - val_loss: 0.2308 - val_accuracy: 0.9241\n",
      "Epoch 9/10\n",
      "400/400 - 741s - loss: 0.0465 - accuracy: 0.9796 - val_loss: 0.2271 - val_accuracy: 0.9234\n",
      "Epoch 10/10\n",
      "400/400 - 735s - loss: 0.0452 - accuracy: 0.9821 - val_loss: 0.2570 - val_accuracy: 0.9237\n"
     ]
    },
    {
     "output_type": "execute_result",
     "data": {
      "text/plain": [
       "<tensorflow.python.keras.callbacks.History at 0x22040303160>"
      ]
     },
     "metadata": {},
     "execution_count": 343
    }
   ],
   "metadata": {}
  },
  {
   "cell_type": "code",
   "execution_count": 344,
   "source": [
    "model.save('sentiment')"
   ],
   "outputs": [
    {
     "output_type": "stream",
     "name": "stdout",
     "text": [
      "INFO:tensorflow:Assets written to: sentiment\\assets\n"
     ]
    }
   ],
   "metadata": {}
  },
  {
   "cell_type": "code",
   "execution_count": 348,
   "source": [
    "# LOOKS AT THE CONTENT OF THE MENTIONED TWEET\r\n",
    "#tweets = api.mentions_timeline(tweet_mode='extended')\r\n",
    "#a = tweets[3].in_reply_to_status_id_str\r\n",
    "#tweet_a = api.get_status(id=a)\r\n",
    "#print(tweet_a.text)\r\n",
    "def check (i):\r\n",
    "    print(i)\r\n",
    "    print(np.max(i))\r\n",
    "    a = np.where(i == np.max(i))\r\n",
    "    a = a[0][0]\r\n",
    "    if ( a == 0):\r\n",
    "        return('Anger')\r\n",
    "    elif (a == 1):\r\n",
    "        return('Fear')\r\n",
    "    elif (a ==2):\r\n",
    "        return('Joy')\r\n",
    "    elif (a ==3):\r\n",
    "        return('Love')\r\n",
    "    elif (a ==4):\r\n",
    "        return('Sadness')   \r\n",
    "    else:\r\n",
    "        return('Surprised')\r\n",
    "\r\n",
    "predictions = model.predict(x_tweet)\r\n",
    "print (dftweet.Column2[0])\r\n",
    "#print ( (np.where(predictions[0] == np.max(predictions[0])))[0][0])\r\n",
    "#[print(df['Column1'][i],predictions[i],y_test[i]) for i in range (0,1)]\r\n",
    "#print(check(y_test[0]))\r\n",
    "print(check(predictions[0]))"
   ],
   "outputs": [
    {
     "output_type": "stream",
     "name": "stdout",
     "text": [
      "         Column2\n",
      "0  I am sooo sad\n",
      "I am sooo sad\n",
      "[0.01656582 0.05495894 0.54570925 0.03140358 0.33040982 0.0209525 ]\n",
      "0.54570925\n",
      "Joy\n"
     ]
    }
   ],
   "metadata": {}
  },
  {
   "cell_type": "code",
   "execution_count": null,
   "source": [],
   "outputs": [],
   "metadata": {}
  }
 ],
 "metadata": {
  "interpreter": {
   "hash": "f65332f147b41578335efd8d2a3e52675cb60580caf47da42c831203f1235846"
  },
  "kernelspec": {
   "name": "python3",
   "display_name": "Python 3.9.6 64-bit"
  },
  "language_info": {
   "codemirror_mode": {
    "name": "ipython",
    "version": 3
   },
   "file_extension": ".py",
   "mimetype": "text/x-python",
   "name": "python",
   "nbconvert_exporter": "python",
   "pygments_lexer": "ipython3",
   "version": "3.9.6"
  },
  "orig_nbformat": 4
 },
 "nbformat": 4,
 "nbformat_minor": 2
}