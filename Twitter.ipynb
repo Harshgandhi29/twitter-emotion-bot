{
 "cells": [
  {
   "cell_type": "markdown",
   "source": [
    "Run the following command:\r\n",
    "\r\n",
    "pip install -r requirements.txt"
   ],
   "metadata": {}
  },
  {
   "cell_type": "code",
   "execution_count": 13,
   "source": [
    "import re\r\n",
    "import tweepy\r\n",
    "import pandas as pd\r\n",
    "import numpy as np\r\n",
    "import matplotlib.pyplot as plt\r\n",
    "from tensorflow import keras\r\n",
    "from tensorflow.keras import layers\r\n",
    "from keras.preprocessing.text import Tokenizer\r\n",
    "from keras.preprocessing.sequence import pad_sequences\r\n",
    "from keras.models import Sequential,load_model\r\n",
    "from keras.layers import Embedding,LSTM,Dense,Dropout\r\n",
    "from sklearn.model_selection import train_test_split"
   ],
   "outputs": [],
   "metadata": {}
  },
  {
   "cell_type": "code",
   "execution_count": 14,
   "source": [
    "from dotenv import load_dotenv, dotenv_values\r\n",
    "secrets = dotenv_values(\".env\")\r\n",
    "\r\n",
    "consumerKey = secrets[\"consumerKey\"]\r\n",
    "consumerSecret = secrets[\"consumerSecret\"]\r\n",
    "accessToken = secrets[\"accessToken\"]\r\n",
    "accessSecret = secrets[\"accessSecret\"]"
   ],
   "outputs": [],
   "metadata": {}
  },
  {
   "cell_type": "code",
   "execution_count": 15,
   "source": [
    "authenticate = tweepy.OAuthHandler(consumerKey,consumerSecret)\r\n",
    "authenticate.set_access_token(accessToken,accessSecret)\r\n",
    "\r\n",
    "api = tweepy.API(authenticate,wait_on_rate_limit= True)"
   ],
   "outputs": [],
   "metadata": {}
  },
  {
   "cell_type": "code",
   "execution_count": 17,
   "source": [
    "mention = api.mentions_timeline()\r\n",
    "print(mention)\r\n",
    "\r\n",
    "for tweets in mention:\r\n",
    "  print(str(tweets.id)+'-'+tweets.text)"
   ],
   "outputs": [
    {
     "output_type": "stream",
     "name": "stdout",
     "text": [
      "[]\n"
     ]
    }
   ],
   "metadata": {}
  },
  {
   "cell_type": "code",
   "execution_count": 28,
   "source": [
    "df = pd.read_csv('combined.csv')\r\n",
    "df.head()"
   ],
   "outputs": [
    {
     "output_type": "execute_result",
     "data": {
      "text/plain": [
       "   Column1                                            Column2  Column3  \\\n",
       "0    40785  I can literally eat creamy pesto pasta topped ...  sadness   \n",
       "1    30822  @DamnPatriot You're a POS for rejoicing in som...      joy   \n",
       "2    20000  I feel like I am drowning. #depression #anxiet...     fear   \n",
       "3    20001  I get so nervous even thinking about talking t...     fear   \n",
       "4    20002                     I lost my blinders .... #panic     fear   \n",
       "\n",
       "   Column4  \n",
       "0    0.083  \n",
       "1    0.019  \n",
       "2    0.979  \n",
       "3    0.979  \n",
       "4    0.975  "
      ],
      "text/html": [
       "<div>\n",
       "<style scoped>\n",
       "    .dataframe tbody tr th:only-of-type {\n",
       "        vertical-align: middle;\n",
       "    }\n",
       "\n",
       "    .dataframe tbody tr th {\n",
       "        vertical-align: top;\n",
       "    }\n",
       "\n",
       "    .dataframe thead th {\n",
       "        text-align: right;\n",
       "    }\n",
       "</style>\n",
       "<table border=\"1\" class=\"dataframe\">\n",
       "  <thead>\n",
       "    <tr style=\"text-align: right;\">\n",
       "      <th></th>\n",
       "      <th>Column1</th>\n",
       "      <th>Column2</th>\n",
       "      <th>Column3</th>\n",
       "      <th>Column4</th>\n",
       "    </tr>\n",
       "  </thead>\n",
       "  <tbody>\n",
       "    <tr>\n",
       "      <th>0</th>\n",
       "      <td>40785</td>\n",
       "      <td>I can literally eat creamy pesto pasta topped ...</td>\n",
       "      <td>sadness</td>\n",
       "      <td>0.083</td>\n",
       "    </tr>\n",
       "    <tr>\n",
       "      <th>1</th>\n",
       "      <td>30822</td>\n",
       "      <td>@DamnPatriot You're a POS for rejoicing in som...</td>\n",
       "      <td>joy</td>\n",
       "      <td>0.019</td>\n",
       "    </tr>\n",
       "    <tr>\n",
       "      <th>2</th>\n",
       "      <td>20000</td>\n",
       "      <td>I feel like I am drowning. #depression #anxiet...</td>\n",
       "      <td>fear</td>\n",
       "      <td>0.979</td>\n",
       "    </tr>\n",
       "    <tr>\n",
       "      <th>3</th>\n",
       "      <td>20001</td>\n",
       "      <td>I get so nervous even thinking about talking t...</td>\n",
       "      <td>fear</td>\n",
       "      <td>0.979</td>\n",
       "    </tr>\n",
       "    <tr>\n",
       "      <th>4</th>\n",
       "      <td>20002</td>\n",
       "      <td>I lost my blinders .... #panic</td>\n",
       "      <td>fear</td>\n",
       "      <td>0.975</td>\n",
       "    </tr>\n",
       "  </tbody>\n",
       "</table>\n",
       "</div>"
      ]
     },
     "metadata": {},
     "execution_count": 28
    }
   ],
   "metadata": {}
  },
  {
   "cell_type": "code",
   "execution_count": 29,
   "source": [
    "df['Column3'].value_counts().sort_index().plot.bar()"
   ],
   "outputs": [
    {
     "output_type": "execute_result",
     "data": {
      "text/plain": [
       "<AxesSubplot:>"
      ]
     },
     "metadata": {},
     "execution_count": 29
    },
    {
     "output_type": "display_data",
     "data": {
      "text/plain": [
       "<Figure size 432x288 with 1 Axes>"
      ],
      "image/png": "[encoded data removed]"
     },
     "metadata": {
      "needs_background": "light"
     }
    }
   ],
   "metadata": {}
  },
  {
   "cell_type": "code",
   "execution_count": 30,
   "source": [
    "df['Column2'].apply(lambda x: x.lower())# lowercase\r\n",
    "df['Column2'] = df['Column2'].apply(lambda x: re.sub('[@#]','',x))\r\n",
    "df['Column2'].head()"
   ],
   "outputs": [
    {
     "output_type": "execute_result",
     "data": {
      "text/plain": [
       "0    I can literally eat creamy pesto pasta topped ...\n",
       "1    DamnPatriot You're a POS for rejoicing in some...\n",
       "2    I feel like I am drowning. depression anxiety ...\n",
       "3    I get so nervous even thinking about talking t...\n",
       "4                        I lost my blinders .... panic\n",
       "Name: Column2, dtype: object"
      ]
     },
     "metadata": {},
     "execution_count": 30
    }
   ],
   "metadata": {}
  },
  {
   "cell_type": "code",
   "execution_count": 31,
   "source": [
    "tokenizer = Tokenizer(num_words=10000,split =\" \")\r\n",
    "tokenizer.fit_on_texts(df['Column2'].values)\r\n",
    "\r\n",
    "x = tokenizer.texts_to_sequences(df['Column2'].values)\r\n",
    "x = pad_sequences(x)\r\n",
    "x[:5]\r\n",
    "\r\n",
    "x_tweet = tokenizer.texts_to_sequences(df['Column2'].values)\r\n",
    "x_tweet = pad_sequences(x_tweet)"
   ],
   "outputs": [],
   "metadata": {}
  },
  {
   "cell_type": "code",
   "execution_count": 32,
   "source": [
    "model = Sequential()\r\n",
    "model.add(Embedding(10000,256,input_length=x.shape[1]))\r\n",
    "model.add(Dropout(0.3))\r\n",
    "model.add(LSTM(256,return_sequences=True,dropout=0.3,recurrent_dropout=0.2))\r\n",
    "model.add(LSTM(256,dropout=0.3,recurrent_dropout=0.2))\r\n",
    "model.add(Dense(4,activation='softmax'))"
   ],
   "outputs": [],
   "metadata": {}
  },
  {
   "cell_type": "code",
   "execution_count": 33,
   "source": [
    "model.compile(loss='categorical_crossentropy', optimizer='adam',metrics = ['accuracy'])\r\n",
    "model.summary()"
   ],
   "outputs": [
    {
     "output_type": "stream",
     "name": "stdout",
     "text": [
      "Model: \"sequential\"\n",
      "_________________________________________________________________\n",
      "Layer (type)                 Output Shape              Param #   \n",
      "=================================================================\n",
      "embedding (Embedding)        (None, 33, 256)           2560000   \n",
      "_________________________________________________________________\n",
      "dropout (Dropout)            (None, 33, 256)           0         \n",
      "_________________________________________________________________\n",
      "lstm (LSTM)                  (None, 33, 256)           525312    \n",
      "_________________________________________________________________\n",
      "lstm_1 (LSTM)                (None, 256)               525312    \n",
      "_________________________________________________________________\n",
      "dense (Dense)                (None, 4)                 1028      \n",
      "=================================================================\n",
      "Total params: 3,611,652\n",
      "Trainable params: 3,611,652\n",
      "Non-trainable params: 0\n",
      "_________________________________________________________________\n"
     ]
    }
   ],
   "metadata": {}
  },
  {
   "cell_type": "code",
   "execution_count": 34,
   "source": [
    "y = pd.get_dummies(df['Column3']).values \r\n",
    "[print(df['Column3'][i], y[i]) for i in range (0,5)]"
   ],
   "outputs": [
    {
     "output_type": "stream",
     "name": "stdout",
     "text": [
      "sadness [0 0 0 1]\n",
      "joy [0 0 1 0]\n",
      "fear [0 1 0 0]\n",
      "fear [0 1 0 0]\n",
      "fear [0 1 0 0]\n"
     ]
    },
    {
     "output_type": "execute_result",
     "data": {
      "text/plain": [
       "[None, None, None, None, None]"
      ]
     },
     "metadata": {},
     "execution_count": 34
    }
   ],
   "metadata": {}
  },
  {
   "cell_type": "code",
   "execution_count": 35,
   "source": [
    "x_train,x_test,y_train,y_test = train_test_split(x,y,test_size=0.2,random_state = 0)"
   ],
   "outputs": [],
   "metadata": {}
  },
  {
   "cell_type": "code",
   "execution_count": 81,
   "source": [
    "model.fit(x_train, y_train,epochs=100,batch_size = 150)"
   ],
   "outputs": [
    {
     "output_type": "stream",
     "name": "stdout",
     "text": [
      "Epoch 1/100\n",
      "20/20 [==============================] - 19s 944ms/step - loss: 0.0260 - accuracy: 0.9869\n",
      "Epoch 2/100\n",
      "20/20 [==============================] - 20s 995ms/step - loss: 0.0209 - accuracy: 0.9882\n",
      "Epoch 3/100\n",
      "20/20 [==============================] - 21s 1s/step - loss: 0.0194 - accuracy: 0.9886\n",
      "Epoch 4/100\n",
      "20/20 [==============================] - 22s 1s/step - loss: 0.0188 - accuracy: 0.9900\n",
      "Epoch 5/100\n",
      "20/20 [==============================] - 23s 1s/step - loss: 0.0196 - accuracy: 0.9869\n",
      "Epoch 6/100\n",
      "20/20 [==============================] - 23s 1s/step - loss: 0.0187 - accuracy: 0.9889\n",
      "Epoch 7/100\n",
      "20/20 [==============================] - 24s 1s/step - loss: 0.0176 - accuracy: 0.9900\n",
      "Epoch 8/100\n",
      "20/20 [==============================] - 24s 1s/step - loss: 0.0172 - accuracy: 0.9889\n",
      "Epoch 9/100\n",
      "20/20 [==============================] - 25s 1s/step - loss: 0.0173 - accuracy: 0.9910\n",
      "Epoch 10/100\n",
      "20/20 [==============================] - 25s 1s/step - loss: 0.0172 - accuracy: 0.9910\n",
      "Epoch 11/100\n",
      "20/20 [==============================] - 25s 1s/step - loss: 0.0171 - accuracy: 0.9903\n",
      "Epoch 12/100\n",
      "20/20 [==============================] - 25s 1s/step - loss: 0.0185 - accuracy: 0.9900\n",
      "Epoch 13/100\n",
      "20/20 [==============================] - 25s 1s/step - loss: 0.0169 - accuracy: 0.9893\n",
      "Epoch 14/100\n",
      "20/20 [==============================] - 25s 1s/step - loss: 0.0159 - accuracy: 0.9920\n",
      "Epoch 15/100\n",
      "20/20 [==============================] - 25s 1s/step - loss: 0.0167 - accuracy: 0.9893\n",
      "Epoch 16/100\n",
      "20/20 [==============================] - 26s 1s/step - loss: 0.0183 - accuracy: 0.9889\n",
      "Epoch 17/100\n",
      "20/20 [==============================] - 26s 1s/step - loss: 0.0163 - accuracy: 0.9875\n",
      "Epoch 18/100\n",
      "20/20 [==============================] - 26s 1s/step - loss: 0.0166 - accuracy: 0.9893\n",
      "Epoch 19/100\n",
      "20/20 [==============================] - 26s 1s/step - loss: 0.0170 - accuracy: 0.9879\n",
      "Epoch 20/100\n",
      "20/20 [==============================] - 27s 1s/step - loss: 0.0164 - accuracy: 0.9907\n",
      "Epoch 21/100\n",
      "20/20 [==============================] - 27s 1s/step - loss: 0.0164 - accuracy: 0.9900\n",
      "Epoch 22/100\n",
      "20/20 [==============================] - 28s 1s/step - loss: 0.0163 - accuracy: 0.9879\n",
      "Epoch 23/100\n",
      "20/20 [==============================] - 28s 1s/step - loss: 0.0167 - accuracy: 0.9886\n",
      "Epoch 24/100\n",
      "20/20 [==============================] - 28s 1s/step - loss: 0.0169 - accuracy: 0.9886\n",
      "Epoch 25/100\n",
      "20/20 [==============================] - 28s 1s/step - loss: 0.0168 - accuracy: 0.9896\n",
      "Epoch 26/100\n",
      "20/20 [==============================] - 28s 1s/step - loss: 0.0150 - accuracy: 0.9910\n",
      "Epoch 27/100\n",
      "20/20 [==============================] - 29s 1s/step - loss: 0.0159 - accuracy: 0.9875\n",
      "Epoch 28/100\n",
      "20/20 [==============================] - 29s 1s/step - loss: 0.0163 - accuracy: 0.9889\n",
      "Epoch 29/100\n",
      "20/20 [==============================] - 29s 1s/step - loss: 0.0149 - accuracy: 0.9886\n",
      "Epoch 30/100\n",
      "20/20 [==============================] - 29s 1s/step - loss: 0.0158 - accuracy: 0.9882\n",
      "Epoch 31/100\n",
      "20/20 [==============================] - 29s 1s/step - loss: 0.0159 - accuracy: 0.9882\n",
      "Epoch 32/100\n",
      "20/20 [==============================] - 29s 1s/step - loss: 0.0154 - accuracy: 0.9893\n",
      "Epoch 33/100\n",
      "20/20 [==============================] - 29s 1s/step - loss: 0.0154 - accuracy: 0.9893\n",
      "Epoch 34/100\n",
      "20/20 [==============================] - 29s 1s/step - loss: 0.0168 - accuracy: 0.9889\n",
      "Epoch 35/100\n",
      "20/20 [==============================] - 29s 1s/step - loss: 0.0176 - accuracy: 0.9882\n",
      "Epoch 36/100\n",
      "20/20 [==============================] - 29s 1s/step - loss: 0.0168 - accuracy: 0.9882\n",
      "Epoch 37/100\n",
      "20/20 [==============================] - 29s 1s/step - loss: 0.0157 - accuracy: 0.9903\n",
      "Epoch 38/100\n",
      "20/20 [==============================] - 29s 1s/step - loss: 0.0158 - accuracy: 0.9886\n",
      "Epoch 39/100\n",
      "20/20 [==============================] - 29s 1s/step - loss: 0.0155 - accuracy: 0.9917\n",
      "Epoch 40/100\n",
      "20/20 [==============================] - 29s 1s/step - loss: 0.0161 - accuracy: 0.9869\n",
      "Epoch 41/100\n",
      "20/20 [==============================] - 29s 1s/step - loss: 0.0151 - accuracy: 0.9910\n",
      "Epoch 42/100\n",
      "20/20 [==============================] - 29s 1s/step - loss: 0.0150 - accuracy: 0.9893\n",
      "Epoch 43/100\n",
      "20/20 [==============================] - 29s 1s/step - loss: 0.0161 - accuracy: 0.9886\n",
      "Epoch 44/100\n",
      "20/20 [==============================] - 29s 1s/step - loss: 0.0160 - accuracy: 0.9893\n",
      "Epoch 45/100\n",
      "20/20 [==============================] - 29s 1s/step - loss: 0.0159 - accuracy: 0.9893\n",
      "Epoch 46/100\n",
      "20/20 [==============================] - 29s 1s/step - loss: 0.0163 - accuracy: 0.9875\n",
      "Epoch 47/100\n",
      "20/20 [==============================] - 29s 1s/step - loss: 0.0163 - accuracy: 0.9872\n",
      "Epoch 48/100\n",
      "20/20 [==============================] - 29s 1s/step - loss: 0.0158 - accuracy: 0.9886\n",
      "Epoch 49/100\n",
      "20/20 [==============================] - 29s 1s/step - loss: 0.0159 - accuracy: 0.9879\n",
      "Epoch 50/100\n",
      "20/20 [==============================] - 29s 1s/step - loss: 0.0145 - accuracy: 0.9879\n",
      "Epoch 51/100\n",
      "20/20 [==============================] - 29s 1s/step - loss: 0.0151 - accuracy: 0.9903\n",
      "Epoch 52/100\n",
      "20/20 [==============================] - 29s 1s/step - loss: 0.0156 - accuracy: 0.9896\n",
      "Epoch 53/100\n",
      "20/20 [==============================] - 29s 1s/step - loss: 0.0159 - accuracy: 0.9896\n",
      "Epoch 54/100\n",
      "20/20 [==============================] - 29s 1s/step - loss: 0.0164 - accuracy: 0.9879\n",
      "Epoch 55/100\n",
      "20/20 [==============================] - 29s 1s/step - loss: 0.0155 - accuracy: 0.9879\n",
      "Epoch 56/100\n",
      "20/20 [==============================] - 29s 1s/step - loss: 0.0156 - accuracy: 0.9875\n",
      "Epoch 57/100\n",
      "20/20 [==============================] - 29s 1s/step - loss: 0.0139 - accuracy: 0.9910\n",
      "Epoch 58/100\n",
      "20/20 [==============================] - 28s 1s/step - loss: 0.0161 - accuracy: 0.9886\n",
      "Epoch 59/100\n",
      "20/20 [==============================] - 28s 1s/step - loss: 0.0155 - accuracy: 0.9879\n",
      "Epoch 60/100\n",
      "20/20 [==============================] - 28s 1s/step - loss: 0.0145 - accuracy: 0.9910\n",
      "Epoch 61/100\n",
      "20/20 [==============================] - 28s 1s/step - loss: 0.0146 - accuracy: 0.9889\n",
      "Epoch 62/100\n",
      "20/20 [==============================] - 28s 1s/step - loss: 0.0143 - accuracy: 0.9900\n",
      "Epoch 63/100\n",
      "20/20 [==============================] - 28s 1s/step - loss: 0.0151 - accuracy: 0.9875\n",
      "Epoch 64/100\n",
      "20/20 [==============================] - 28s 1s/step - loss: 0.0152 - accuracy: 0.9893\n",
      "Epoch 65/100\n",
      "20/20 [==============================] - 28s 1s/step - loss: 0.0162 - accuracy: 0.9879\n",
      "Epoch 66/100\n",
      "20/20 [==============================] - 28s 1s/step - loss: 0.0154 - accuracy: 0.9869\n",
      "Epoch 67/100\n",
      "20/20 [==============================] - 28s 1s/step - loss: 0.0146 - accuracy: 0.9907\n",
      "Epoch 68/100\n",
      "20/20 [==============================] - 28s 1s/step - loss: 0.0145 - accuracy: 0.9893\n",
      "Epoch 69/100\n",
      "20/20 [==============================] - 29s 1s/step - loss: 0.0139 - accuracy: 0.9927\n",
      "Epoch 70/100\n",
      "20/20 [==============================] - 29s 1s/step - loss: 0.0147 - accuracy: 0.9882\n",
      "Epoch 71/100\n",
      "20/20 [==============================] - 29s 1s/step - loss: 0.0153 - accuracy: 0.9886\n",
      "Epoch 72/100\n",
      "20/20 [==============================] - 28s 1s/step - loss: 0.0146 - accuracy: 0.9907\n",
      "Epoch 73/100\n",
      "20/20 [==============================] - 29s 1s/step - loss: 0.0146 - accuracy: 0.9886\n",
      "Epoch 74/100\n",
      "20/20 [==============================] - 28s 1s/step - loss: 0.0149 - accuracy: 0.9872\n",
      "Epoch 75/100\n",
      "20/20 [==============================] - 29s 1s/step - loss: 0.0139 - accuracy: 0.9907\n",
      "Epoch 76/100\n",
      "20/20 [==============================] - 28s 1s/step - loss: 0.0155 - accuracy: 0.9900\n",
      "Epoch 77/100\n",
      "20/20 [==============================] - 29s 1s/step - loss: 0.0146 - accuracy: 0.9903\n",
      "Epoch 78/100\n",
      "20/20 [==============================] - 28s 1s/step - loss: 0.0148 - accuracy: 0.9875\n",
      "Epoch 79/100\n",
      "20/20 [==============================] - 28s 1s/step - loss: 0.0150 - accuracy: 0.9879\n",
      "Epoch 80/100\n",
      "20/20 [==============================] - 28s 1s/step - loss: 0.0153 - accuracy: 0.9907\n",
      "Epoch 81/100\n",
      "20/20 [==============================] - 29s 1s/step - loss: 0.0141 - accuracy: 0.9886\n",
      "Epoch 82/100\n",
      "20/20 [==============================] - 29s 1s/step - loss: 0.0147 - accuracy: 0.9893\n",
      "Epoch 83/100\n",
      "20/20 [==============================] - 28s 1s/step - loss: 0.0147 - accuracy: 0.9903\n",
      "Epoch 84/100\n",
      "20/20 [==============================] - 28s 1s/step - loss: 0.0156 - accuracy: 0.9882\n",
      "Epoch 85/100\n",
      "20/20 [==============================] - 28s 1s/step - loss: 0.0156 - accuracy: 0.9872\n",
      "Epoch 86/100\n",
      "20/20 [==============================] - 28s 1s/step - loss: 0.0188 - accuracy: 0.9886\n",
      "Epoch 87/100\n",
      "20/20 [==============================] - 28s 1s/step - loss: 0.0150 - accuracy: 0.9882\n",
      "Epoch 88/100\n",
      "20/20 [==============================] - 28s 1s/step - loss: 0.0159 - accuracy: 0.9889\n",
      "Epoch 89/100\n",
      "20/20 [==============================] - 28s 1s/step - loss: 0.0157 - accuracy: 0.9869\n",
      "Epoch 90/100\n",
      "20/20 [==============================] - 28s 1s/step - loss: 0.0153 - accuracy: 0.9896\n",
      "Epoch 91/100\n",
      "20/20 [==============================] - 28s 1s/step - loss: 0.0146 - accuracy: 0.9910\n",
      "Epoch 92/100\n",
      "20/20 [==============================] - 29s 1s/step - loss: 0.0152 - accuracy: 0.9875\n",
      "Epoch 93/100\n",
      "20/20 [==============================] - 28s 1s/step - loss: 0.0166 - accuracy: 0.9893\n",
      "Epoch 94/100\n",
      "20/20 [==============================] - 29s 1s/step - loss: 0.0150 - accuracy: 0.9875\n",
      "Epoch 95/100\n",
      "20/20 [==============================] - 29s 1s/step - loss: 0.0147 - accuracy: 0.9913\n",
      "Epoch 96/100\n",
      "20/20 [==============================] - 29s 1s/step - loss: 0.0157 - accuracy: 0.9889\n",
      "Epoch 97/100\n",
      "20/20 [==============================] - 29s 1s/step - loss: 0.0155 - accuracy: 0.9893\n",
      "Epoch 98/100\n",
      "20/20 [==============================] - 29s 1s/step - loss: 0.0143 - accuracy: 0.9889\n",
      "Epoch 99/100\n",
      "20/20 [==============================] - 29s 1s/step - loss: 0.0149 - accuracy: 0.9882\n",
      "Epoch 100/100\n",
      "20/20 [==============================] - 30s 1s/step - loss: 0.0145 - accuracy: 0.9896\n"
     ]
    },
    {
     "output_type": "execute_result",
     "data": {
      "text/plain": [
       "<keras.callbacks.History at 0x25c35a23670>"
      ]
     },
     "metadata": {},
     "execution_count": 81
    }
   ],
   "metadata": {}
  },
  {
   "cell_type": "code",
   "execution_count": 82,
   "source": [
    "model.save('sentiment')"
   ],
   "outputs": [
    {
     "output_type": "stream",
     "name": "stdout",
     "text": [
      "INFO:tensorflow:Assets written to: sentiment\\assets\n"
     ]
    }
   ],
   "metadata": {}
  },
  {
   "cell_type": "code",
   "execution_count": 95,
   "source": [
    "tweets = api.mentions_timeline(tweet_mode='extended')\r\n",
    "\r\n",
    "a = tweets[3].in_reply_to_status_id_str\r\n",
    "\r\n",
    "tweet_a = api.get_status(id=a)\r\n",
    "print(tweet_a.text)"
   ],
   "outputs": [
    {
     "output_type": "stream",
     "name": "stdout",
     "text": [
      "zendaya and tom holland invented looking this sexy. just LOOK AT THEM https://t.co/5vkXPqRrg5\n"
     ]
    }
   ],
   "metadata": {}
  },
  {
   "cell_type": "code",
   "execution_count": 96,
   "source": [
    "#create a df for the tweets\r\n",
    "dftweet = pd.DataFrame([tweet_a.text],columns = [\"Tweets\"])\r\n",
    "dftweet.head()"
   ],
   "outputs": [
    {
     "output_type": "execute_result",
     "data": {
      "text/plain": [
       "                                              Tweets\n",
       "0  zendaya and tom holland invented looking this ..."
      ],
      "text/html": [
       "<div>\n",
       "<style scoped>\n",
       "    .dataframe tbody tr th:only-of-type {\n",
       "        vertical-align: middle;\n",
       "    }\n",
       "\n",
       "    .dataframe tbody tr th {\n",
       "        vertical-align: top;\n",
       "    }\n",
       "\n",
       "    .dataframe thead th {\n",
       "        text-align: right;\n",
       "    }\n",
       "</style>\n",
       "<table border=\"1\" class=\"dataframe\">\n",
       "  <thead>\n",
       "    <tr style=\"text-align: right;\">\n",
       "      <th></th>\n",
       "      <th>Tweets</th>\n",
       "    </tr>\n",
       "  </thead>\n",
       "  <tbody>\n",
       "    <tr>\n",
       "      <th>0</th>\n",
       "      <td>zendaya and tom holland invented looking this ...</td>\n",
       "    </tr>\n",
       "  </tbody>\n",
       "</table>\n",
       "</div>"
      ]
     },
     "metadata": {},
     "execution_count": 96
    }
   ],
   "metadata": {}
  },
  {
   "cell_type": "code",
   "execution_count": 97,
   "source": [
    "#clean tweets\r\n",
    "def cleanTxt(text):\r\n",
    "  text =re.sub(r'@[A-Za-z0-9]+','',text) #remove @\r\n",
    "  text = re.sub(r'#','',text)# remove #\r\n",
    "  text = re.sub(r'RT[\\s]+','',text)# remove RT\r\n",
    "  text = re.sub(r'https?:\\/\\/\\S+','',text)#remove hyperlink\r\n",
    "\r\n",
    "  return text\r\n",
    "\r\n",
    "dftweet[\"Tweets\"]= dftweet[\"Tweets\"].apply(cleanTxt)\r\n",
    "print(dftweet)"
   ],
   "outputs": [
    {
     "output_type": "stream",
     "name": "stdout",
     "text": [
      "                                              Tweets\n",
      "0  zendaya and tom holland invented looking this ...\n"
     ]
    }
   ],
   "metadata": {}
  },
  {
   "cell_type": "code",
   "execution_count": 1,
   "source": [
    "def check (i):\r\n",
    "  if ( i == 0):\r\n",
    "    return('Anger')\r\n",
    "  elif (i == 1):\r\n",
    "    return('Fear')\r\n",
    "  elif (i==2):\r\n",
    "    return('Joy')\r\n",
    "  else:\r\n",
    "    return('Sadness')\r\n",
    "predictions = model.predict(x_tweet)\r\n",
    "\r\n",
    "a = 0\r\n",
    "index = 0\r\n",
    "for p in range (0,4):\r\n",
    "    print(a)\r\n",
    "    if (predictions[i][p]>a):\r\n",
    "      a = predictions[i][p]\r\n",
    "      index = p\r\n",
    "# print(dftweet[\"Tweets\"][i],predictions[i],index)\r\n",
    "print(check(index))"
   ],
   "outputs": [
    {
     "output_type": "error",
     "ename": "NameError",
     "evalue": "name 'model' is not defined",
     "traceback": [
      "\u001b[1;31m---------------------------------------------------------------------------\u001b[0m",
      "\u001b[1;31mNameError\u001b[0m                                 Traceback (most recent call last)",
      "\u001b[1;32m~\\AppData\\Local\\Temp/ipykernel_19576/2708247046.py\u001b[0m in \u001b[0;36m<module>\u001b[1;34m\u001b[0m\n\u001b[0;32m      8\u001b[0m   \u001b[1;32melse\u001b[0m\u001b[1;33m:\u001b[0m\u001b[1;33m\u001b[0m\u001b[1;33m\u001b[0m\u001b[0m\n\u001b[0;32m      9\u001b[0m     \u001b[1;32mreturn\u001b[0m\u001b[1;33m(\u001b[0m\u001b[1;34m'Sadness'\u001b[0m\u001b[1;33m)\u001b[0m\u001b[1;33m\u001b[0m\u001b[1;33m\u001b[0m\u001b[0m\n\u001b[1;32m---> 10\u001b[1;33m \u001b[0mpredictions\u001b[0m \u001b[1;33m=\u001b[0m \u001b[0mmodel\u001b[0m\u001b[1;33m.\u001b[0m\u001b[0mpredict\u001b[0m\u001b[1;33m(\u001b[0m\u001b[0mx_tweet\u001b[0m\u001b[1;33m)\u001b[0m\u001b[1;33m\u001b[0m\u001b[1;33m\u001b[0m\u001b[0m\n\u001b[0m\u001b[0;32m     11\u001b[0m \u001b[1;33m\u001b[0m\u001b[0m\n\u001b[0;32m     12\u001b[0m \u001b[0ma\u001b[0m \u001b[1;33m=\u001b[0m \u001b[1;36m0\u001b[0m\u001b[1;33m\u001b[0m\u001b[1;33m\u001b[0m\u001b[0m\n",
      "\u001b[1;31mNameError\u001b[0m: name 'model' is not defined"
     ]
    }
   ],
   "metadata": {}
  }
 ],
 "metadata": {
  "interpreter": {
   "hash": "f65332f147b41578335efd8d2a3e52675cb60580caf47da42c831203f1235846"
  },
  "kernelspec": {
   "name": "python3",
   "display_name": "Python 3.9.6 64-bit"
  },
  "language_info": {
   "codemirror_mode": {
    "name": "ipython",
    "version": 3
   },
   "file_extension": ".py",
   "mimetype": "text/x-python",
   "name": "python",
   "nbconvert_exporter": "python",
   "pygments_lexer": "ipython3",
   "version": "3.9.6"
  },
  "orig_nbformat": 4
 },
 "nbformat": 4,
 "nbformat_minor": 2
}