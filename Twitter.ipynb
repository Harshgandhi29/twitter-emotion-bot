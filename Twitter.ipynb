{
 "cells": [
  {
   "cell_type": "markdown",
   "source": [
    "Run the following command:\r\n",
    "\r\n",
    "pip install -r requirements.txt"
   ],
   "metadata": {}
  },
  {
   "cell_type": "code",
   "execution_count": 1,
   "source": [
    "import numpy as np\r\n",
    "import pandas as pd\r\n",
    "import seaborn as sns\r\n",
    "import matplotlib.pyplot as plt\r\n",
    "import tweepy\r\n",
    "\r\n",
    "from sklearn.model_selection import train_test_split\r\n",
    "from sklearn.preprocessing import LabelEncoder\r\n",
    "\r\n",
    "import tensorflow as tf\r\n",
    "from tensorflow.keras.preprocessing.text import Tokenizer\r\n",
    "from tensorflow.keras.preprocessing.sequence import pad_sequences\r\n",
    "from tensorflow.keras import layers, callbacks\r\n",
    "from tensorflow.keras import Model, Sequential\r\n",
    "\r\n",
    "from nltk.stem import SnowballStemmer\r\n",
    "from nltk.corpus import stopwords\r\n",
    "import re\r\n",
    "import string"
   ],
   "outputs": [],
   "metadata": {}
  },
  {
   "cell_type": "code",
   "execution_count": 2,
   "source": [
    "import nltk\r\n",
    "nltk.download('stopwords')"
   ],
   "outputs": [
    {
     "output_type": "stream",
     "name": "stderr",
     "text": [
      "[nltk_data] Downloading package stopwords to\n",
      "[nltk_data]     C:\\Users\\hassa\\AppData\\Roaming\\nltk_data...\n",
      "[nltk_data]   Package stopwords is already up-to-date!\n"
     ]
    },
    {
     "output_type": "execute_result",
     "data": {
      "text/plain": [
       "True"
      ]
     },
     "metadata": {},
     "execution_count": 2
    }
   ],
   "metadata": {}
  },
  {
   "cell_type": "code",
   "execution_count": 3,
   "source": [
    "from dotenv import load_dotenv, dotenv_values\r\n",
    "secrets = dotenv_values(\".env\")\r\n",
    "\r\n",
    "#Imports the credentials for Twitter\r\n",
    "\r\n",
    "consumerKey = secrets[\"consumerKey\"]\r\n",
    "consumerSecret = secrets[\"consumerSecret\"]\r\n",
    "accessToken = secrets[\"accessToken\"]\r\n",
    "accessSecret = secrets[\"accessSecret\"]\r\n",
    "\r\n",
    "authenticate = tweepy.OAuthHandler(consumerKey,consumerSecret)\r\n",
    "authenticate.set_access_token(accessToken,accessSecret)\r\n",
    "\r\n",
    "api = tweepy.API(authenticate,wait_on_rate_limit= True)"
   ],
   "outputs": [],
   "metadata": {}
  },
  {
   "cell_type": "code",
   "execution_count": 4,
   "source": [
    "dataset = pd.read_csv('./datasets/kaggle_dataset.csv')\r\n",
    "dataset.tail()\r\n",
    "\r\n"
   ],
   "outputs": [
    {
     "output_type": "execute_result",
     "data": {
      "text/plain": [
       "                                                    Text Emotion\n",
       "21454               Melissa stared at her friend in dism    fear\n",
       "21455  Successive state elections have seen the gover...    fear\n",
       "21456               Vincent was irritated but not dismay    fear\n",
       "21457  Kendall-Hume turned back to face the dismayed ...    fear\n",
       "21458                    I am dismayed , but not surpris    fear"
      ],
      "text/html": [
       "<div>\n",
       "<style scoped>\n",
       "    .dataframe tbody tr th:only-of-type {\n",
       "        vertical-align: middle;\n",
       "    }\n",
       "\n",
       "    .dataframe tbody tr th {\n",
       "        vertical-align: top;\n",
       "    }\n",
       "\n",
       "    .dataframe thead th {\n",
       "        text-align: right;\n",
       "    }\n",
       "</style>\n",
       "<table border=\"1\" class=\"dataframe\">\n",
       "  <thead>\n",
       "    <tr style=\"text-align: right;\">\n",
       "      <th></th>\n",
       "      <th>Text</th>\n",
       "      <th>Emotion</th>\n",
       "    </tr>\n",
       "  </thead>\n",
       "  <tbody>\n",
       "    <tr>\n",
       "      <th>21454</th>\n",
       "      <td>Melissa stared at her friend in dism</td>\n",
       "      <td>fear</td>\n",
       "    </tr>\n",
       "    <tr>\n",
       "      <th>21455</th>\n",
       "      <td>Successive state elections have seen the gover...</td>\n",
       "      <td>fear</td>\n",
       "    </tr>\n",
       "    <tr>\n",
       "      <th>21456</th>\n",
       "      <td>Vincent was irritated but not dismay</td>\n",
       "      <td>fear</td>\n",
       "    </tr>\n",
       "    <tr>\n",
       "      <th>21457</th>\n",
       "      <td>Kendall-Hume turned back to face the dismayed ...</td>\n",
       "      <td>fear</td>\n",
       "    </tr>\n",
       "    <tr>\n",
       "      <th>21458</th>\n",
       "      <td>I am dismayed , but not surpris</td>\n",
       "      <td>fear</td>\n",
       "    </tr>\n",
       "  </tbody>\n",
       "</table>\n",
       "</div>"
      ]
     },
     "metadata": {},
     "execution_count": 4
    }
   ],
   "metadata": {}
  },
  {
   "cell_type": "code",
   "execution_count": 5,
   "source": [
    "def missing_value(data):\r\n",
    "    missing_data = pd.DataFrame({\r\n",
    "        'Missing_count':data.isnull().sum(),\r\n",
    "        'Missing_part (%)':(data.isnull().sum()/len(data))*100\r\n",
    "    })\r\n",
    "    missing_data = missing_data[missing_data['Missing_count']!=0]\r\n",
    "\r\n",
    "    if len(missing_data) > 0:\r\n",
    "        return missing_data\r\n",
    "    else:\r\n",
    "        return \"No value is lost!!!\""
   ],
   "outputs": [],
   "metadata": {}
  },
  {
   "cell_type": "code",
   "execution_count": 6,
   "source": [
    "missing_value(dataset)"
   ],
   "outputs": [
    {
     "output_type": "execute_result",
     "data": {
      "text/plain": [
       "'No value is lost!!!'"
      ]
     },
     "metadata": {},
     "execution_count": 6
    }
   ],
   "metadata": {}
  },
  {
   "cell_type": "code",
   "execution_count": 49,
   "source": [
    "# Encoded Sentiment columns\r\n",
    "encoder = LabelEncoder()\r\n",
    "dataset['Label'] = encoder.fit_transform(dataset['Emotion'])\r\n",
    "dataset.tail()"
   ],
   "outputs": [
    {
     "output_type": "execute_result",
     "data": {
      "text/plain": [
       "                                                    Text Emotion  Label\n",
       "21454                         Melissa stared friend dism    fear      1\n",
       "21455  Successive state elections seen governing part...    fear      1\n",
       "21456                           Vincent irritated dismay    fear      1\n",
       "21457         KendallHume turned back face dismayed coup    fear      1\n",
       "21458                                I dismayed  surpris    fear      1"
      ],
      "text/html": [
       "<div>\n",
       "<style scoped>\n",
       "    .dataframe tbody tr th:only-of-type {\n",
       "        vertical-align: middle;\n",
       "    }\n",
       "\n",
       "    .dataframe tbody tr th {\n",
       "        vertical-align: top;\n",
       "    }\n",
       "\n",
       "    .dataframe thead th {\n",
       "        text-align: right;\n",
       "    }\n",
       "</style>\n",
       "<table border=\"1\" class=\"dataframe\">\n",
       "  <thead>\n",
       "    <tr style=\"text-align: right;\">\n",
       "      <th></th>\n",
       "      <th>Text</th>\n",
       "      <th>Emotion</th>\n",
       "      <th>Label</th>\n",
       "    </tr>\n",
       "  </thead>\n",
       "  <tbody>\n",
       "    <tr>\n",
       "      <th>21454</th>\n",
       "      <td>Melissa stared friend dism</td>\n",
       "      <td>fear</td>\n",
       "      <td>1</td>\n",
       "    </tr>\n",
       "    <tr>\n",
       "      <th>21455</th>\n",
       "      <td>Successive state elections seen governing part...</td>\n",
       "      <td>fear</td>\n",
       "      <td>1</td>\n",
       "    </tr>\n",
       "    <tr>\n",
       "      <th>21456</th>\n",
       "      <td>Vincent irritated dismay</td>\n",
       "      <td>fear</td>\n",
       "      <td>1</td>\n",
       "    </tr>\n",
       "    <tr>\n",
       "      <th>21457</th>\n",
       "      <td>KendallHume turned back face dismayed coup</td>\n",
       "      <td>fear</td>\n",
       "      <td>1</td>\n",
       "    </tr>\n",
       "    <tr>\n",
       "      <th>21458</th>\n",
       "      <td>I dismayed  surpris</td>\n",
       "      <td>fear</td>\n",
       "      <td>1</td>\n",
       "    </tr>\n",
       "  </tbody>\n",
       "</table>\n",
       "</div>"
      ]
     },
     "metadata": {},
     "execution_count": 49
    }
   ],
   "metadata": {}
  },
  {
   "cell_type": "code",
   "execution_count": 8,
   "source": [
    "num_classes = dataset.Label.nunique()\r\n",
    "print(num_classes)"
   ],
   "outputs": [
    {
     "output_type": "stream",
     "name": "stdout",
     "text": [
      "6\n"
     ]
    }
   ],
   "metadata": {}
  },
  {
   "cell_type": "code",
   "execution_count": 9,
   "source": [
    "def cleaning_text(text):\r\n",
    "    stop_words = stopwords.words(\"english\")\r\n",
    "\r\n",
    "    text = re.sub(r'http\\S+', \" \", text)    # remove urls\r\n",
    "    text = re.sub(r'@\\w+',' ',text)         # remove mentions\r\n",
    "    text = re.sub(r'#\\w+', ' ', text)       # remove hastags\r\n",
    "    text = re.sub('r<.*?>',' ', text)       # remove html tags\r\n",
    "    \r\n",
    "    # remove stopwords \r\n",
    "    text = text.split()\r\n",
    "    text = \" \".join([word for word in text if not word in stop_words])\r\n",
    "\r\n",
    "    for punctuation in string.punctuation:\r\n",
    "        text = text.replace(punctuation, \"\")\r\n",
    "    \r\n",
    "    return text\r\n",
    "\r\n",
    "dataset['Text'] = dataset['Text'].apply(lambda x: cleaning_text(x))"
   ],
   "outputs": [],
   "metadata": {}
  },
  {
   "cell_type": "code",
   "execution_count": null,
   "source": [
    "for i in range(5):\r\n",
    "    print('----------------------------------------------')\r\n",
    "    random_number=np.random.randint(0,len(dataset)-1)\r\n",
    "    print(dataset.Text[random_number])\r\n",
    "    print('----------------------------------------------\\n')"
   ],
   "outputs": [],
   "metadata": {}
  },
  {
   "cell_type": "code",
   "execution_count": 11,
   "source": [
    "# Maximum sentence length\r\n",
    "max_len_words = max(list(dataset['Text'].apply(len)))\r\n",
    "print(max_len_words)"
   ],
   "outputs": [
    {
     "output_type": "stream",
     "name": "stdout",
     "text": [
      "232\n"
     ]
    }
   ],
   "metadata": {}
  },
  {
   "cell_type": "code",
   "execution_count": 12,
   "source": [
    "sns.countplot(dataset.Emotion)\r\n",
    "plt.show()"
   ],
   "outputs": [
    {
     "output_type": "stream",
     "name": "stderr",
     "text": [
      "C:\\Users\\hassa\\AppData\\Local\\Programs\\Python\\Python39\\lib\\site-packages\\seaborn\\_decorators.py:36: FutureWarning: Pass the following variable as a keyword arg: x. From version 0.12, the only valid positional argument will be `data`, and passing other arguments without an explicit keyword will result in an error or misinterpretation.\n",
      "  warnings.warn(\n"
     ]
    },
    {
     "output_type": "display_data",
     "data": {
      "text/plain": [
       "<Figure size 432x288 with 1 Axes>"
      ],
      "image/png": "[encoded data removed]"
     },
     "metadata": {
      "needs_background": "light"
     }
    }
   ],
   "metadata": {}
  },
  {
   "cell_type": "code",
   "execution_count": 13,
   "source": [
    "def tokenizer(x_train, y_train, max_len_word):\r\n",
    "    # because the data distribution is imbalanced, \"stratify\" is used\r\n",
    "    X_train, X_val, y_train, y_val = train_test_split(x_train, y_train, \r\n",
    "                                                      test_size=.2, shuffle=True, \r\n",
    "                                                      stratify=y_train, random_state=0)\r\n",
    "\r\n",
    "    # Tokenizer\r\n",
    "    tokenizer = Tokenizer(num_words=5000)\r\n",
    "    tokenizer.fit_on_texts(X_train)\r\n",
    "    sequence_dict = tokenizer.word_index\r\n",
    "    word_dict = dict((num, val) for (val, num) in sequence_dict.items())\r\n",
    "\r\n",
    "    # Sequence data\r\n",
    "    train_sequences = tokenizer.texts_to_sequences(X_train)\r\n",
    "    train_padded = pad_sequences(train_sequences,\r\n",
    "                                 maxlen=max_len_word,\r\n",
    "                                 truncating='post',\r\n",
    "                                 padding='post')\r\n",
    "    \r\n",
    "    val_sequences = tokenizer.texts_to_sequences(X_val)\r\n",
    "    val_padded = pad_sequences(val_sequences,\r\n",
    "                                maxlen=max_len_word,\r\n",
    "                                truncating='post',\r\n",
    "                                padding='post', )\r\n",
    "\r\n",
    "    print(train_padded.shape)\r\n",
    "    print(val_padded.shape)\r\n",
    "    print('Total words: {}'.format(len(word_dict)))\r\n",
    "    return train_padded, val_padded, y_train, y_val, word_dict\r\n",
    "\r\n",
    "X_train, X_val, y_train, y_val, word_dict = tokenizer(dataset.Text, dataset.Label, 100)"
   ],
   "outputs": [
    {
     "output_type": "stream",
     "name": "stdout",
     "text": [
      "(17167, 100)\n",
      "(4292, 100)\n",
      "Total words: 17099\n"
     ]
    }
   ],
   "metadata": {}
  },
  {
   "cell_type": "code",
   "execution_count": 14,
   "source": [
    "model = Sequential([\r\n",
    "    layers.Embedding(5000, 100, input_length=100),\r\n",
    "    layers.Bidirectional(layers.LSTM(64, return_sequences=True, recurrent_dropout=0.4)),\r\n",
    "    #layers.LSTM(64, return_sequences=True, recurrent_dropout=0.4),\r\n",
    "    #layers.BatchNormalization(),\r\n",
    "    layers.GlobalAveragePooling1D(),    # or layers.Flatten()\r\n",
    "    layers.Dense(64, activation='relu'),\r\n",
    "    layers.Dropout(0.4),\r\n",
    "    layers.Dense(num_classes, activation='softmax')\r\n",
    "])"
   ],
   "outputs": [],
   "metadata": {}
  },
  {
   "cell_type": "code",
   "execution_count": 15,
   "source": [
    "model.compile(loss=tf.keras.losses.SparseCategoricalCrossentropy(),\r\n",
    "              optimizer=tf.keras.optimizers.Adam(learning_rate=0.001),\r\n",
    "              metrics=['accuracy'])"
   ],
   "outputs": [],
   "metadata": {}
  },
  {
   "cell_type": "code",
   "execution_count": 16,
   "source": [
    "import time\r\n",
    "start = time.perf_counter()\r\n",
    "early_stopping = callbacks.EarlyStopping(monitor =\"val_loss\", \r\n",
    "                                         mode =\"min\", patience=3)\r\n",
    "\r\n",
    "history = model.fit(X_train, y_train,\r\n",
    "                    epochs=50, \r\n",
    "                    validation_data=(X_val, y_val),\r\n",
    "                    callbacks=[early_stopping], \r\n",
    "                    shuffle=True)\r\n",
    "\r\n",
    "elapsed = time.perf_counter() - start\r\n",
    "print('Elapsed %.3f seconds.' % elapsed)"
   ],
   "outputs": [
    {
     "output_type": "stream",
     "name": "stdout",
     "text": [
      "Epoch 1/50\n",
      "537/537 [==============================] - 55s 96ms/step - loss: 1.5359 - accuracy: 0.3282 - val_loss: 1.3605 - val_accuracy: 0.3779\n",
      "Epoch 2/50\n",
      "537/537 [==============================] - 51s 96ms/step - loss: 1.2607 - accuracy: 0.4132 - val_loss: 1.2434 - val_accuracy: 0.4301\n",
      "Epoch 3/50\n",
      "537/537 [==============================] - 51s 94ms/step - loss: 1.0893 - accuracy: 0.5434 - val_loss: 0.8562 - val_accuracy: 0.6747\n",
      "Epoch 4/50\n",
      "537/537 [==============================] - 51s 95ms/step - loss: 0.7224 - accuracy: 0.7094 - val_loss: 0.6956 - val_accuracy: 0.7141\n",
      "Epoch 5/50\n",
      "537/537 [==============================] - 51s 95ms/step - loss: 0.5737 - accuracy: 0.7515 - val_loss: 0.6835 - val_accuracy: 0.7318\n",
      "Epoch 6/50\n",
      "537/537 [==============================] - 51s 95ms/step - loss: 0.4862 - accuracy: 0.7838 - val_loss: 0.6279 - val_accuracy: 0.7530\n",
      "Epoch 7/50\n",
      "537/537 [==============================] - 51s 94ms/step - loss: 0.4037 - accuracy: 0.8199 - val_loss: 0.5592 - val_accuracy: 0.8173\n",
      "Epoch 8/50\n",
      "537/537 [==============================] - 52s 97ms/step - loss: 0.2982 - accuracy: 0.8988 - val_loss: 0.4730 - val_accuracy: 0.8726\n",
      "Epoch 9/50\n",
      "537/537 [==============================] - 51s 95ms/step - loss: 0.2052 - accuracy: 0.9364 - val_loss: 0.4848 - val_accuracy: 0.8819\n",
      "Epoch 10/50\n",
      "537/537 [==============================] - 52s 96ms/step - loss: 0.1641 - accuracy: 0.9502 - val_loss: 0.5245 - val_accuracy: 0.8793\n",
      "Epoch 11/50\n",
      "537/537 [==============================] - 51s 95ms/step - loss: 0.1270 - accuracy: 0.9631 - val_loss: 0.5085 - val_accuracy: 0.8840\n",
      "Elapsed 565.914 seconds.\n"
     ]
    }
   ],
   "metadata": {}
  },
  {
   "cell_type": "code",
   "execution_count": 68,
   "source": [
    "# Plotting accuracy and val_accuracy\r\n",
    "acc = history.history['accuracy']\r\n",
    "val_acc = history.history['val_accuracy']\r\n",
    "\r\n",
    "loss = history.history['loss']\r\n",
    "val_loss = history.history['val_loss']\r\n",
    "\r\n",
    "epochs_range = range(1, len(val_acc)+1)\r\n",
    "plt.figure(figsize=(12, 4))\r\n",
    "\r\n",
    "plt.subplot(1, 2, 1)\r\n",
    "plt.plot(epochs_range, acc, label='Training Accuracy')\r\n",
    "plt.plot(epochs_range, val_acc, label='Validation Accuracy')\r\n",
    "plt.legend(loc='lower right')\r\n",
    "plt.xlim(1, len(val_acc)+1)\r\n",
    "plt.title('Training and Validation Accuracy')\r\n",
    "\r\n",
    "plt.subplot(1, 2, 2)\r\n",
    "plt.plot(epochs_range, loss, label='Training Loss')\r\n",
    "plt.plot(epochs_range, val_loss, label='Validation Loss')\r\n",
    "plt.legend(loc='upper right')\r\n",
    "plt.xlim(1, len(val_acc)+1)\r\n",
    "plt.title('Training and Validation Loss')\r\n",
    "plt.show()"
   ],
   "outputs": [
    {
     "output_type": "display_data",
     "data": {
      "text/plain": [
       "<Figure size 864x288 with 2 Axes>"
      ],
      "image/png": "[encoded data removed]"
     },
     "metadata": {
      "needs_background": "light"
     }
    }
   ],
   "metadata": {}
  },
  {
   "cell_type": "code",
   "execution_count": 69,
   "source": [
    "mention = api.mentions_timeline()\r\n",
    "\r\n",
    "tweet = mention[2]\r\n",
    "\r\n",
    "tweet_id=tweet.in_reply_to_status_id\r\n",
    "\r\n",
    "stimulus = cleaning_text(api.get_status(id=tweet_id, tweet_mode=\"extended\").full_text)\r\n",
    "\r\n",
    "stimulus = cleaning_text(\"I am very sad that this ml model is not working\")\r\n",
    "\r\n",
    "samples_to_predict = np.array([stimulus])\r\n",
    "\r\n",
    "tokenizer = Tokenizer(num_words=5000)\r\n",
    "sequence_dict = tokenizer.word_index\r\n",
    "word_dict = dict((num, val) for (val, num) in sequence_dict.items())\r\n",
    "\r\n",
    "tokenizer.fit_on_texts(samples_to_predict)\r\n",
    "\r\n",
    "train_sequences = tokenizer.texts_to_sequences(samples_to_predict)\r\n",
    "train_padded = pad_sequences(train_sequences,\r\n",
    "                                maxlen=100,\r\n",
    "                                truncating='post',\r\n",
    "                                padding='post')\r\n",
    "\r\n",
    "value_arr = model.predict(train_padded)\r\n",
    "print(value_arr)\r\n",
    "\r\n",
    "key = {0:\"anger\", 1:\"fear\", 2:\"happy\", 3:\"love\", 4:\"sadness\", 5:\"surprise\"}\r\n",
    "\r\n",
    "print(stimulus,\": \",key[np.argmax(value_arr)])  \r\n"
   ],
   "outputs": [
    {
     "output_type": "stream",
     "name": "stdout",
     "text": [
      "[[0.0877564  0.0606788  0.11172028 0.03188548 0.06987751 0.63808155]]\n",
      "jumping ship :  surprise\n"
     ]
    }
   ],
   "metadata": {}
  },
  {
   "cell_type": "code",
   "execution_count": null,
   "source": [],
   "outputs": [],
   "metadata": {}
  }
 ],
 "metadata": {
  "interpreter": {
   "hash": "f65332f147b41578335efd8d2a3e52675cb60580caf47da42c831203f1235846"
  },
  "kernelspec": {
   "name": "python3",
   "display_name": "Python 3.9.6 64-bit"
  },
  "language_info": {
   "codemirror_mode": {
    "name": "ipython",
    "version": 3
   },
   "file_extension": ".py",
   "mimetype": "text/x-python",
   "name": "python",
   "nbconvert_exporter": "python",
   "pygments_lexer": "ipython3",
   "version": "3.9.6"
  },
  "orig_nbformat": 4
 },
 "nbformat": 4,
 "nbformat_minor": 2
}